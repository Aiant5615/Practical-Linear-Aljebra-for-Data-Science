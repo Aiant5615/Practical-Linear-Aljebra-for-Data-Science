{
 "cells": [
  {
   "cell_type": "code",
   "execution_count": 4,
   "metadata": {},
   "outputs": [],
   "source": [
    "import numpy as np\n",
    "import matplotlib.pyplot as plt\n",
    "\n",
    "# NOTE: these lines define global figure properties used for publication.\n",
    "import matplotlib_inline.backend_inline\n",
    "matplotlib_inline.backend_inline.set_matplotlib_formats('svg') # print figures in svg format\n",
    "plt.rcParams.update({'font.size':14}) # set global font size"
   ]
  },
  {
   "cell_type": "code",
   "execution_count": 5,
   "metadata": {},
   "outputs": [
    {
     "name": "stdout",
     "output_type": "stream",
     "text": [
      "[0. 0. 0.]\n"
     ]
    },
    {
     "data": {
      "text/plain": [
       "array([ -7.,  -4., -13.])"
      ]
     },
     "execution_count": 5,
     "metadata": {},
     "output_type": "execute_result"
    }
   ],
   "source": [
    "#2-1\n",
    "\n",
    "v1 = np.array([4,5,1])\n",
    "v2 = np.array([-4,0,-4])\n",
    "v3 = np.array([1,3,2])\n",
    "\n",
    "scalars = [ 1,2,-3 ]\n",
    "vectors = [ v1,v2,v3 ]\n",
    "\n",
    "linCombo = np.zeros(len(v1))\n",
    "print(linCombo)\n",
    "for s,v in zip(scalars,vectors):\n",
    "    linCombo += s*v\n",
    "\n",
    "linCombo\n",
    "\n"
   ]
  },
  {
   "cell_type": "code",
   "execution_count": 6,
   "metadata": {},
   "outputs": [
    {
     "ename": "IndexError",
     "evalue": "list index out of range",
     "output_type": "error",
     "traceback": [
      "\u001b[0;31m---------------------------------------------------------------------------\u001b[0m",
      "\u001b[0;31mIndexError\u001b[0m                                Traceback (most recent call last)",
      "Cell \u001b[0;32mIn[6], line 8\u001b[0m\n\u001b[1;32m      5\u001b[0m linCombo \u001b[38;5;241m=\u001b[39m np\u001b[38;5;241m.\u001b[39mzeros(\u001b[38;5;28mlen\u001b[39m(v1))\n\u001b[1;32m      7\u001b[0m \u001b[38;5;28;01mfor\u001b[39;00m i \u001b[38;5;129;01min\u001b[39;00m \u001b[38;5;28mrange\u001b[39m(\u001b[38;5;28mlen\u001b[39m(scalars)):\n\u001b[0;32m----> 8\u001b[0m     linCombo \u001b[38;5;241m+\u001b[39m\u001b[38;5;241m=\u001b[39m scalars[i]\u001b[38;5;241m*\u001b[39m\u001b[43mvectors\u001b[49m\u001b[43m[\u001b[49m\u001b[43mi\u001b[49m\u001b[43m]\u001b[49m\n",
      "\u001b[0;31mIndexError\u001b[0m: list index out of range"
     ]
    }
   ],
   "source": [
    "#2-2\n",
    "scalars = [ 1,2,-3,5 ]\n",
    "vectors = [ v1,v2,v3 ]\n",
    "\n",
    "linCombo = np.zeros(len(v1))\n",
    "\n",
    "for i in range(len(scalars)):\n",
    "    linCombo += scalars[i]*vectors[i]\n"
   ]
  },
  {
   "cell_type": "code",
   "execution_count": 7,
   "metadata": {},
   "outputs": [
    {
     "data": {
      "image/svg+xml": [
       "<?xml version=\"1.0\" encoding=\"utf-8\" standalone=\"no\"?>\n",
       "<!DOCTYPE svg PUBLIC \"-//W3C//DTD SVG 1.1//EN\"\n",
       "  \"http://www.w3.org/Graphics/SVG/1.1/DTD/svg11.dtd\">\n",
       "<svg xmlns:xlink=\"http://www.w3.org/1999/xlink\" width=\"381.292812pt\" height=\"402.056563pt\" viewBox=\"0 0 381.292812 402.056563\" xmlns=\"http://www.w3.org/2000/svg\" version=\"1.1\">\n",
       " <metadata>\n",
       "  <rdf:RDF xmlns:dc=\"http://purl.org/dc/elements/1.1/\" xmlns:cc=\"http://creativecommons.org/ns#\" xmlns:rdf=\"http://www.w3.org/1999/02/22-rdf-syntax-ns#\">\n",
       "   <cc:Work>\n",
       "    <dc:type rdf:resource=\"http://purl.org/dc/dcmitype/StillImage\"/>\n",
       "    <dc:date>2024-05-05T16:13:49.913964</dc:date>\n",
       "    <dc:format>image/svg+xml</dc:format>\n",
       "    <dc:creator>\n",
       "     <cc:Agent>\n",
       "      <dc:title>Matplotlib v3.8.4, https://matplotlib.org/</dc:title>\n",
       "     </cc:Agent>\n",
       "    </dc:creator>\n",
       "   </cc:Work>\n",
       "  </rdf:RDF>\n",
       " </metadata>\n",
       " <defs>\n",
       "  <style type=\"text/css\">*{stroke-linejoin: round; stroke-linecap: butt}</style>\n",
       " </defs>\n",
       " <g id=\"figure_1\">\n",
       "  <g id=\"patch_1\">\n",
       "   <path d=\"M 0 402.056563 \n",
       "L 381.292812 402.056563 \n",
       "L 381.292812 0 \n",
       "L 0 0 \n",
       "z\n",
       "\" style=\"fill: #ffffff\"/>\n",
       "  </g>\n",
       "  <g id=\"axes_1\">\n",
       "   <g id=\"patch_2\">\n",
       "    <path d=\"M 34.839063 374.307188 \n",
       "L 369.639063 374.307188 \n",
       "L 369.639063 41.667188 \n",
       "L 34.839063 41.667188 \n",
       "z\n",
       "\" style=\"fill: #ffffff\"/>\n",
       "   </g>\n",
       "   <g id=\"matplotlib.axis_1\">\n",
       "    <g id=\"xtick_1\">\n",
       "     <g id=\"line2d_1\">\n",
       "      <path d=\"M 34.839063 374.307188 \n",
       "L 34.839063 41.667188 \n",
       "\" clip-path=\"url(#pb8f2e57414)\" style=\"fill: none; stroke: #b0b0b0; stroke-width: 0.8; stroke-linecap: square\"/>\n",
       "     </g>\n",
       "     <g id=\"line2d_2\">\n",
       "      <defs>\n",
       "       <path id=\"m63b05dda0b\" d=\"M 0 0 \n",
       "L 0 3.5 \n",
       "\" style=\"stroke: #000000; stroke-width: 0.8\"/>\n",
       "      </defs>\n",
       "      <g>\n",
       "       <use xlink:href=\"#m63b05dda0b\" x=\"34.839063\" y=\"374.307188\" style=\"stroke: #000000; stroke-width: 0.8\"/>\n",
       "      </g>\n",
       "     </g>\n",
       "     <g id=\"text_1\">\n",
       "      <!-- −4 -->\n",
       "      <g transform=\"translate(24.519531 391.945) scale(0.14 -0.14)\">\n",
       "       <defs>\n",
       "        <path id=\"DejaVuSans-2212\" d=\"M 678 2272 \n",
       "L 4684 2272 \n",
       "L 4684 1741 \n",
       "L 678 1741 \n",
       "L 678 2272 \n",
       "z\n",
       "\" transform=\"scale(0.015625)\"/>\n",
       "        <path id=\"DejaVuSans-34\" d=\"M 2419 4116 \n",
       "L 825 1625 \n",
       "L 2419 1625 \n",
       "L 2419 4116 \n",
       "z\n",
       "M 2253 4666 \n",
       "L 3047 4666 \n",
       "L 3047 1625 \n",
       "L 3713 1625 \n",
       "L 3713 1100 \n",
       "L 3047 1100 \n",
       "L 3047 0 \n",
       "L 2419 0 \n",
       "L 2419 1100 \n",
       "L 313 1100 \n",
       "L 313 1709 \n",
       "L 2253 4666 \n",
       "z\n",
       "\" transform=\"scale(0.015625)\"/>\n",
       "       </defs>\n",
       "       <use xlink:href=\"#DejaVuSans-2212\"/>\n",
       "       <use xlink:href=\"#DejaVuSans-34\" x=\"83.789062\"/>\n",
       "      </g>\n",
       "     </g>\n",
       "    </g>\n",
       "    <g id=\"xtick_2\">\n",
       "     <g id=\"line2d_3\">\n",
       "      <path d=\"M 118.539063 374.307188 \n",
       "L 118.539063 41.667188 \n",
       "\" clip-path=\"url(#pb8f2e57414)\" style=\"fill: none; stroke: #b0b0b0; stroke-width: 0.8; stroke-linecap: square\"/>\n",
       "     </g>\n",
       "     <g id=\"line2d_4\">\n",
       "      <g>\n",
       "       <use xlink:href=\"#m63b05dda0b\" x=\"118.539063\" y=\"374.307188\" style=\"stroke: #000000; stroke-width: 0.8\"/>\n",
       "      </g>\n",
       "     </g>\n",
       "     <g id=\"text_2\">\n",
       "      <!-- −2 -->\n",
       "      <g transform=\"translate(108.219531 391.945) scale(0.14 -0.14)\">\n",
       "       <defs>\n",
       "        <path id=\"DejaVuSans-32\" d=\"M 1228 531 \n",
       "L 3431 531 \n",
       "L 3431 0 \n",
       "L 469 0 \n",
       "L 469 531 \n",
       "Q 828 903 1448 1529 \n",
       "Q 2069 2156 2228 2338 \n",
       "Q 2531 2678 2651 2914 \n",
       "Q 2772 3150 2772 3378 \n",
       "Q 2772 3750 2511 3984 \n",
       "Q 2250 4219 1831 4219 \n",
       "Q 1534 4219 1204 4116 \n",
       "Q 875 4013 500 3803 \n",
       "L 500 4441 \n",
       "Q 881 4594 1212 4672 \n",
       "Q 1544 4750 1819 4750 \n",
       "Q 2544 4750 2975 4387 \n",
       "Q 3406 4025 3406 3419 \n",
       "Q 3406 3131 3298 2873 \n",
       "Q 3191 2616 2906 2266 \n",
       "Q 2828 2175 2409 1742 \n",
       "Q 1991 1309 1228 531 \n",
       "z\n",
       "\" transform=\"scale(0.015625)\"/>\n",
       "       </defs>\n",
       "       <use xlink:href=\"#DejaVuSans-2212\"/>\n",
       "       <use xlink:href=\"#DejaVuSans-32\" x=\"83.789062\"/>\n",
       "      </g>\n",
       "     </g>\n",
       "    </g>\n",
       "    <g id=\"xtick_3\">\n",
       "     <g id=\"line2d_5\">\n",
       "      <path d=\"M 202.239063 374.307188 \n",
       "L 202.239063 41.667188 \n",
       "\" clip-path=\"url(#pb8f2e57414)\" style=\"fill: none; stroke: #b0b0b0; stroke-width: 0.8; stroke-linecap: square\"/>\n",
       "     </g>\n",
       "     <g id=\"line2d_6\">\n",
       "      <g>\n",
       "       <use xlink:href=\"#m63b05dda0b\" x=\"202.239063\" y=\"374.307188\" style=\"stroke: #000000; stroke-width: 0.8\"/>\n",
       "      </g>\n",
       "     </g>\n",
       "     <g id=\"text_3\">\n",
       "      <!-- 0 -->\n",
       "      <g transform=\"translate(197.785313 391.945) scale(0.14 -0.14)\">\n",
       "       <defs>\n",
       "        <path id=\"DejaVuSans-30\" d=\"M 2034 4250 \n",
       "Q 1547 4250 1301 3770 \n",
       "Q 1056 3291 1056 2328 \n",
       "Q 1056 1369 1301 889 \n",
       "Q 1547 409 2034 409 \n",
       "Q 2525 409 2770 889 \n",
       "Q 3016 1369 3016 2328 \n",
       "Q 3016 3291 2770 3770 \n",
       "Q 2525 4250 2034 4250 \n",
       "z\n",
       "M 2034 4750 \n",
       "Q 2819 4750 3233 4129 \n",
       "Q 3647 3509 3647 2328 \n",
       "Q 3647 1150 3233 529 \n",
       "Q 2819 -91 2034 -91 \n",
       "Q 1250 -91 836 529 \n",
       "Q 422 1150 422 2328 \n",
       "Q 422 3509 836 4129 \n",
       "Q 1250 4750 2034 4750 \n",
       "z\n",
       "\" transform=\"scale(0.015625)\"/>\n",
       "       </defs>\n",
       "       <use xlink:href=\"#DejaVuSans-30\"/>\n",
       "      </g>\n",
       "     </g>\n",
       "    </g>\n",
       "    <g id=\"xtick_4\">\n",
       "     <g id=\"line2d_7\">\n",
       "      <path d=\"M 285.939063 374.307188 \n",
       "L 285.939063 41.667188 \n",
       "\" clip-path=\"url(#pb8f2e57414)\" style=\"fill: none; stroke: #b0b0b0; stroke-width: 0.8; stroke-linecap: square\"/>\n",
       "     </g>\n",
       "     <g id=\"line2d_8\">\n",
       "      <g>\n",
       "       <use xlink:href=\"#m63b05dda0b\" x=\"285.939063\" y=\"374.307188\" style=\"stroke: #000000; stroke-width: 0.8\"/>\n",
       "      </g>\n",
       "     </g>\n",
       "     <g id=\"text_4\">\n",
       "      <!-- 2 -->\n",
       "      <g transform=\"translate(281.485313 391.945) scale(0.14 -0.14)\">\n",
       "       <use xlink:href=\"#DejaVuSans-32\"/>\n",
       "      </g>\n",
       "     </g>\n",
       "    </g>\n",
       "    <g id=\"xtick_5\">\n",
       "     <g id=\"line2d_9\">\n",
       "      <path d=\"M 369.639063 374.307188 \n",
       "L 369.639063 41.667188 \n",
       "\" clip-path=\"url(#pb8f2e57414)\" style=\"fill: none; stroke: #b0b0b0; stroke-width: 0.8; stroke-linecap: square\"/>\n",
       "     </g>\n",
       "     <g id=\"line2d_10\">\n",
       "      <g>\n",
       "       <use xlink:href=\"#m63b05dda0b\" x=\"369.639063\" y=\"374.307188\" style=\"stroke: #000000; stroke-width: 0.8\"/>\n",
       "      </g>\n",
       "     </g>\n",
       "     <g id=\"text_5\">\n",
       "      <!-- 4 -->\n",
       "      <g transform=\"translate(365.185313 391.945) scale(0.14 -0.14)\">\n",
       "       <use xlink:href=\"#DejaVuSans-34\"/>\n",
       "      </g>\n",
       "     </g>\n",
       "    </g>\n",
       "   </g>\n",
       "   <g id=\"matplotlib.axis_2\">\n",
       "    <g id=\"ytick_1\">\n",
       "     <g id=\"line2d_11\">\n",
       "      <path d=\"M 34.839063 374.307188 \n",
       "L 369.639063 374.307188 \n",
       "\" clip-path=\"url(#pb8f2e57414)\" style=\"fill: none; stroke: #b0b0b0; stroke-width: 0.8; stroke-linecap: square\"/>\n",
       "     </g>\n",
       "     <g id=\"line2d_12\">\n",
       "      <defs>\n",
       "       <path id=\"mbbd6caa084\" d=\"M 0 0 \n",
       "L -3.5 0 \n",
       "\" style=\"stroke: #000000; stroke-width: 0.8\"/>\n",
       "      </defs>\n",
       "      <g>\n",
       "       <use xlink:href=\"#mbbd6caa084\" x=\"34.839063\" y=\"374.307188\" style=\"stroke: #000000; stroke-width: 0.8\"/>\n",
       "      </g>\n",
       "     </g>\n",
       "     <g id=\"text_6\">\n",
       "      <!-- −4 -->\n",
       "      <g transform=\"translate(7.2 379.626094) scale(0.14 -0.14)\">\n",
       "       <use xlink:href=\"#DejaVuSans-2212\"/>\n",
       "       <use xlink:href=\"#DejaVuSans-34\" x=\"83.789062\"/>\n",
       "      </g>\n",
       "     </g>\n",
       "    </g>\n",
       "    <g id=\"ytick_2\">\n",
       "     <g id=\"line2d_13\">\n",
       "      <path d=\"M 34.839063 332.727188 \n",
       "L 369.639063 332.727188 \n",
       "\" clip-path=\"url(#pb8f2e57414)\" style=\"fill: none; stroke: #b0b0b0; stroke-width: 0.8; stroke-linecap: square\"/>\n",
       "     </g>\n",
       "     <g id=\"line2d_14\">\n",
       "      <g>\n",
       "       <use xlink:href=\"#mbbd6caa084\" x=\"34.839063\" y=\"332.727188\" style=\"stroke: #000000; stroke-width: 0.8\"/>\n",
       "      </g>\n",
       "     </g>\n",
       "     <g id=\"text_7\">\n",
       "      <!-- −3 -->\n",
       "      <g transform=\"translate(7.2 338.046094) scale(0.14 -0.14)\">\n",
       "       <defs>\n",
       "        <path id=\"DejaVuSans-33\" d=\"M 2597 2516 \n",
       "Q 3050 2419 3304 2112 \n",
       "Q 3559 1806 3559 1356 \n",
       "Q 3559 666 3084 287 \n",
       "Q 2609 -91 1734 -91 \n",
       "Q 1441 -91 1130 -33 \n",
       "Q 819 25 488 141 \n",
       "L 488 750 \n",
       "Q 750 597 1062 519 \n",
       "Q 1375 441 1716 441 \n",
       "Q 2309 441 2620 675 \n",
       "Q 2931 909 2931 1356 \n",
       "Q 2931 1769 2642 2001 \n",
       "Q 2353 2234 1838 2234 \n",
       "L 1294 2234 \n",
       "L 1294 2753 \n",
       "L 1863 2753 \n",
       "Q 2328 2753 2575 2939 \n",
       "Q 2822 3125 2822 3475 \n",
       "Q 2822 3834 2567 4026 \n",
       "Q 2313 4219 1838 4219 \n",
       "Q 1578 4219 1281 4162 \n",
       "Q 984 4106 628 3988 \n",
       "L 628 4550 \n",
       "Q 988 4650 1302 4700 \n",
       "Q 1616 4750 1894 4750 \n",
       "Q 2613 4750 3031 4423 \n",
       "Q 3450 4097 3450 3541 \n",
       "Q 3450 3153 3228 2886 \n",
       "Q 3006 2619 2597 2516 \n",
       "z\n",
       "\" transform=\"scale(0.015625)\"/>\n",
       "       </defs>\n",
       "       <use xlink:href=\"#DejaVuSans-2212\"/>\n",
       "       <use xlink:href=\"#DejaVuSans-33\" x=\"83.789062\"/>\n",
       "      </g>\n",
       "     </g>\n",
       "    </g>\n",
       "    <g id=\"ytick_3\">\n",
       "     <g id=\"line2d_15\">\n",
       "      <path d=\"M 34.839063 291.147188 \n",
       "L 369.639063 291.147188 \n",
       "\" clip-path=\"url(#pb8f2e57414)\" style=\"fill: none; stroke: #b0b0b0; stroke-width: 0.8; stroke-linecap: square\"/>\n",
       "     </g>\n",
       "     <g id=\"line2d_16\">\n",
       "      <g>\n",
       "       <use xlink:href=\"#mbbd6caa084\" x=\"34.839063\" y=\"291.147188\" style=\"stroke: #000000; stroke-width: 0.8\"/>\n",
       "      </g>\n",
       "     </g>\n",
       "     <g id=\"text_8\">\n",
       "      <!-- −2 -->\n",
       "      <g transform=\"translate(7.2 296.466094) scale(0.14 -0.14)\">\n",
       "       <use xlink:href=\"#DejaVuSans-2212\"/>\n",
       "       <use xlink:href=\"#DejaVuSans-32\" x=\"83.789062\"/>\n",
       "      </g>\n",
       "     </g>\n",
       "    </g>\n",
       "    <g id=\"ytick_4\">\n",
       "     <g id=\"line2d_17\">\n",
       "      <path d=\"M 34.839063 249.567188 \n",
       "L 369.639063 249.567188 \n",
       "\" clip-path=\"url(#pb8f2e57414)\" style=\"fill: none; stroke: #b0b0b0; stroke-width: 0.8; stroke-linecap: square\"/>\n",
       "     </g>\n",
       "     <g id=\"line2d_18\">\n",
       "      <g>\n",
       "       <use xlink:href=\"#mbbd6caa084\" x=\"34.839063\" y=\"249.567188\" style=\"stroke: #000000; stroke-width: 0.8\"/>\n",
       "      </g>\n",
       "     </g>\n",
       "     <g id=\"text_9\">\n",
       "      <!-- −1 -->\n",
       "      <g transform=\"translate(7.2 254.886094) scale(0.14 -0.14)\">\n",
       "       <defs>\n",
       "        <path id=\"DejaVuSans-31\" d=\"M 794 531 \n",
       "L 1825 531 \n",
       "L 1825 4091 \n",
       "L 703 3866 \n",
       "L 703 4441 \n",
       "L 1819 4666 \n",
       "L 2450 4666 \n",
       "L 2450 531 \n",
       "L 3481 531 \n",
       "L 3481 0 \n",
       "L 794 0 \n",
       "L 794 531 \n",
       "z\n",
       "\" transform=\"scale(0.015625)\"/>\n",
       "       </defs>\n",
       "       <use xlink:href=\"#DejaVuSans-2212\"/>\n",
       "       <use xlink:href=\"#DejaVuSans-31\" x=\"83.789062\"/>\n",
       "      </g>\n",
       "     </g>\n",
       "    </g>\n",
       "    <g id=\"ytick_5\">\n",
       "     <g id=\"line2d_19\">\n",
       "      <path d=\"M 34.839063 207.987188 \n",
       "L 369.639063 207.987188 \n",
       "\" clip-path=\"url(#pb8f2e57414)\" style=\"fill: none; stroke: #b0b0b0; stroke-width: 0.8; stroke-linecap: square\"/>\n",
       "     </g>\n",
       "     <g id=\"line2d_20\">\n",
       "      <g>\n",
       "       <use xlink:href=\"#mbbd6caa084\" x=\"34.839063\" y=\"207.987188\" style=\"stroke: #000000; stroke-width: 0.8\"/>\n",
       "      </g>\n",
       "     </g>\n",
       "     <g id=\"text_10\">\n",
       "      <!-- 0 -->\n",
       "      <g transform=\"translate(18.931563 213.306094) scale(0.14 -0.14)\">\n",
       "       <use xlink:href=\"#DejaVuSans-30\"/>\n",
       "      </g>\n",
       "     </g>\n",
       "    </g>\n",
       "    <g id=\"ytick_6\">\n",
       "     <g id=\"line2d_21\">\n",
       "      <path d=\"M 34.839063 166.407187 \n",
       "L 369.639063 166.407187 \n",
       "\" clip-path=\"url(#pb8f2e57414)\" style=\"fill: none; stroke: #b0b0b0; stroke-width: 0.8; stroke-linecap: square\"/>\n",
       "     </g>\n",
       "     <g id=\"line2d_22\">\n",
       "      <g>\n",
       "       <use xlink:href=\"#mbbd6caa084\" x=\"34.839063\" y=\"166.407187\" style=\"stroke: #000000; stroke-width: 0.8\"/>\n",
       "      </g>\n",
       "     </g>\n",
       "     <g id=\"text_11\">\n",
       "      <!-- 1 -->\n",
       "      <g transform=\"translate(18.931563 171.726094) scale(0.14 -0.14)\">\n",
       "       <use xlink:href=\"#DejaVuSans-31\"/>\n",
       "      </g>\n",
       "     </g>\n",
       "    </g>\n",
       "    <g id=\"ytick_7\">\n",
       "     <g id=\"line2d_23\">\n",
       "      <path d=\"M 34.839063 124.827187 \n",
       "L 369.639063 124.827187 \n",
       "\" clip-path=\"url(#pb8f2e57414)\" style=\"fill: none; stroke: #b0b0b0; stroke-width: 0.8; stroke-linecap: square\"/>\n",
       "     </g>\n",
       "     <g id=\"line2d_24\">\n",
       "      <g>\n",
       "       <use xlink:href=\"#mbbd6caa084\" x=\"34.839063\" y=\"124.827187\" style=\"stroke: #000000; stroke-width: 0.8\"/>\n",
       "      </g>\n",
       "     </g>\n",
       "     <g id=\"text_12\">\n",
       "      <!-- 2 -->\n",
       "      <g transform=\"translate(18.931563 130.146094) scale(0.14 -0.14)\">\n",
       "       <use xlink:href=\"#DejaVuSans-32\"/>\n",
       "      </g>\n",
       "     </g>\n",
       "    </g>\n",
       "    <g id=\"ytick_8\">\n",
       "     <g id=\"line2d_25\">\n",
       "      <path d=\"M 34.839063 83.247187 \n",
       "L 369.639063 83.247187 \n",
       "\" clip-path=\"url(#pb8f2e57414)\" style=\"fill: none; stroke: #b0b0b0; stroke-width: 0.8; stroke-linecap: square\"/>\n",
       "     </g>\n",
       "     <g id=\"line2d_26\">\n",
       "      <g>\n",
       "       <use xlink:href=\"#mbbd6caa084\" x=\"34.839063\" y=\"83.247187\" style=\"stroke: #000000; stroke-width: 0.8\"/>\n",
       "      </g>\n",
       "     </g>\n",
       "     <g id=\"text_13\">\n",
       "      <!-- 3 -->\n",
       "      <g transform=\"translate(18.931563 88.566094) scale(0.14 -0.14)\">\n",
       "       <use xlink:href=\"#DejaVuSans-33\"/>\n",
       "      </g>\n",
       "     </g>\n",
       "    </g>\n",
       "    <g id=\"ytick_9\">\n",
       "     <g id=\"line2d_27\">\n",
       "      <path d=\"M 34.839063 41.667187 \n",
       "L 369.639063 41.667187 \n",
       "\" clip-path=\"url(#pb8f2e57414)\" style=\"fill: none; stroke: #b0b0b0; stroke-width: 0.8; stroke-linecap: square\"/>\n",
       "     </g>\n",
       "     <g id=\"line2d_28\">\n",
       "      <g>\n",
       "       <use xlink:href=\"#mbbd6caa084\" x=\"34.839063\" y=\"41.667187\" style=\"stroke: #000000; stroke-width: 0.8\"/>\n",
       "      </g>\n",
       "     </g>\n",
       "     <g id=\"text_14\">\n",
       "      <!-- 4 -->\n",
       "      <g transform=\"translate(18.931563 46.986094) scale(0.14 -0.14)\">\n",
       "       <use xlink:href=\"#DejaVuSans-34\"/>\n",
       "      </g>\n",
       "     </g>\n",
       "    </g>\n",
       "   </g>\n",
       "   <g id=\"line2d_29\">\n",
       "    <defs>\n",
       "     <path id=\"m73e9c2d4c1\" d=\"M 0 3 \n",
       "C 0.795609 3 1.55874 2.683901 2.12132 2.12132 \n",
       "C 2.683901 1.55874 3 0.795609 3 0 \n",
       "C 3 -0.795609 2.683901 -1.55874 2.12132 -2.12132 \n",
       "C 1.55874 -2.683901 0.795609 -3 0 -3 \n",
       "C -0.795609 -3 -1.55874 -2.683901 -2.12132 -2.12132 \n",
       "C -2.683901 -1.55874 -3 -0.795609 -3 0 \n",
       "C -3 0.795609 -2.683901 1.55874 -2.12132 2.12132 \n",
       "C -1.55874 2.683901 -0.795609 3 0 3 \n",
       "z\n",
       "\" style=\"stroke: #000000\"/>\n",
       "    </defs>\n",
       "    <g clip-path=\"url(#pb8f2e57414)\">\n",
       "     <use xlink:href=\"#m73e9c2d4c1\" x=\"223.152764\" y=\"145.650863\" style=\"stroke: #000000\"/>\n",
       "    </g>\n",
       "   </g>\n",
       "   <g id=\"line2d_30\">\n",
       "    <g clip-path=\"url(#pb8f2e57414)\">\n",
       "     <use xlink:href=\"#m73e9c2d4c1\" x=\"111.746271\" y=\"477.714088\" style=\"stroke: #000000\"/>\n",
       "    </g>\n",
       "   </g>\n",
       "   <g id=\"line2d_31\">\n",
       "    <g clip-path=\"url(#pb8f2e57414)\">\n",
       "     <use xlink:href=\"#m73e9c2d4c1\" x=\"264.76958\" y=\"21.605902\" style=\"stroke: #000000\"/>\n",
       "    </g>\n",
       "   </g>\n",
       "   <g id=\"line2d_32\">\n",
       "    <g clip-path=\"url(#pb8f2e57414)\">\n",
       "     <use xlink:href=\"#m73e9c2d4c1\" x=\"176.670252\" y=\"284.19874\" style=\"stroke: #000000\"/>\n",
       "    </g>\n",
       "   </g>\n",
       "   <g id=\"line2d_33\">\n",
       "    <g clip-path=\"url(#pb8f2e57414)\">\n",
       "     <use xlink:href=\"#m73e9c2d4c1\" x=\"95.665146\" y=\"525.646215\" style=\"stroke: #000000\"/>\n",
       "    </g>\n",
       "   </g>\n",
       "   <g id=\"line2d_34\">\n",
       "    <g clip-path=\"url(#pb8f2e57414)\">\n",
       "     <use xlink:href=\"#m73e9c2d4c1\" x=\"179.80748\" y=\"274.847775\" style=\"stroke: #000000\"/>\n",
       "    </g>\n",
       "   </g>\n",
       "   <g id=\"line2d_35\">\n",
       "    <g clip-path=\"url(#pb8f2e57414)\">\n",
       "     <use xlink:href=\"#m73e9c2d4c1\" x=\"89.780469\" y=\"543.186349\" style=\"stroke: #000000\"/>\n",
       "    </g>\n",
       "   </g>\n",
       "   <g id=\"line2d_36\">\n",
       "    <g clip-path=\"url(#pb8f2e57414)\">\n",
       "     <use xlink:href=\"#m73e9c2d4c1\" x=\"158.194942\" y=\"339.267083\" style=\"stroke: #000000\"/>\n",
       "    </g>\n",
       "   </g>\n",
       "   <g id=\"line2d_37\">\n",
       "    <g clip-path=\"url(#pb8f2e57414)\">\n",
       "     <use xlink:href=\"#m73e9c2d4c1\" x=\"49.182496\" y=\"664.194501\" style=\"stroke: #000000\"/>\n",
       "    </g>\n",
       "   </g>\n",
       "   <g id=\"line2d_38\">\n",
       "    <g clip-path=\"url(#pb8f2e57414)\"/>\n",
       "   </g>\n",
       "   <g id=\"line2d_39\">\n",
       "    <g clip-path=\"url(#pb8f2e57414)\">\n",
       "     <use xlink:href=\"#m73e9c2d4c1\" x=\"50.585512\" y=\"660.01261\" style=\"stroke: #000000\"/>\n",
       "    </g>\n",
       "   </g>\n",
       "   <g id=\"line2d_40\">\n",
       "    <g clip-path=\"url(#pb8f2e57414)\">\n",
       "     <use xlink:href=\"#m73e9c2d4c1\" x=\"124.298908\" y=\"440.299133\" style=\"stroke: #000000\"/>\n",
       "    </g>\n",
       "   </g>\n",
       "   <g id=\"line2d_41\">\n",
       "    <g clip-path=\"url(#pb8f2e57414)\">\n",
       "     <use xlink:href=\"#m73e9c2d4c1\" x=\"141.207683\" y=\"389.900072\" style=\"stroke: #000000\"/>\n",
       "    </g>\n",
       "   </g>\n",
       "   <g id=\"line2d_42\">\n",
       "    <g clip-path=\"url(#pb8f2e57414)\">\n",
       "     <use xlink:href=\"#m73e9c2d4c1\" x=\"113.533284\" y=\"472.387637\" style=\"stroke: #000000\"/>\n",
       "    </g>\n",
       "   </g>\n",
       "   <g id=\"line2d_43\">\n",
       "    <g clip-path=\"url(#pb8f2e57414)\"/>\n",
       "   </g>\n",
       "   <g id=\"line2d_44\">\n",
       "    <g clip-path=\"url(#pb8f2e57414)\">\n",
       "     <use xlink:href=\"#m73e9c2d4c1\" x=\"113.96058\" y=\"471.11402\" style=\"stroke: #000000\"/>\n",
       "    </g>\n",
       "   </g>\n",
       "   <g id=\"line2d_45\">\n",
       "    <g clip-path=\"url(#pb8f2e57414)\"/>\n",
       "   </g>\n",
       "   <g id=\"line2d_46\">\n",
       "    <g clip-path=\"url(#pb8f2e57414)\">\n",
       "     <use xlink:href=\"#m73e9c2d4c1\" x=\"218.071115\" y=\"160.797458\" style=\"stroke: #000000\"/>\n",
       "    </g>\n",
       "   </g>\n",
       "   <g id=\"line2d_47\">\n",
       "    <g clip-path=\"url(#pb8f2e57414)\">\n",
       "     <use xlink:href=\"#m73e9c2d4c1\" x=\"207.789255\" y=\"191.444034\" style=\"stroke: #000000\"/>\n",
       "    </g>\n",
       "   </g>\n",
       "   <g id=\"line2d_48\">\n",
       "    <g clip-path=\"url(#pb8f2e57414)\">\n",
       "     <use xlink:href=\"#m73e9c2d4c1\" x=\"51.987283\" y=\"655.834427\" style=\"stroke: #000000\"/>\n",
       "    </g>\n",
       "   </g>\n",
       "   <g id=\"line2d_49\">\n",
       "    <g clip-path=\"url(#pb8f2e57414)\">\n",
       "     <use xlink:href=\"#m73e9c2d4c1\" x=\"41.891397\" y=\"685.92668\" style=\"stroke: #000000\"/>\n",
       "    </g>\n",
       "   </g>\n",
       "   <g id=\"line2d_50\">\n",
       "    <g clip-path=\"url(#pb8f2e57414)\">\n",
       "     <use xlink:href=\"#m73e9c2d4c1\" x=\"186.468746\" y=\"254.992905\" style=\"stroke: #000000\"/>\n",
       "    </g>\n",
       "   </g>\n",
       "   <g id=\"line2d_51\">\n",
       "    <g clip-path=\"url(#pb8f2e57414)\">\n",
       "     <use xlink:href=\"#m73e9c2d4c1\" x=\"84.500865\" y=\"558.922977\" style=\"stroke: #000000\"/>\n",
       "    </g>\n",
       "   </g>\n",
       "   <g id=\"line2d_52\">\n",
       "    <g clip-path=\"url(#pb8f2e57414)\">\n",
       "     <use xlink:href=\"#m73e9c2d4c1\" x=\"95.61634\" y=\"525.791691\" style=\"stroke: #000000\"/>\n",
       "    </g>\n",
       "   </g>\n",
       "   <g id=\"line2d_53\">\n",
       "    <g clip-path=\"url(#pb8f2e57414)\">\n",
       "     <use xlink:href=\"#m73e9c2d4c1\" x=\"234.003349\" y=\"113.309122\" style=\"stroke: #000000\"/>\n",
       "    </g>\n",
       "   </g>\n",
       "   <g id=\"line2d_54\">\n",
       "    <g clip-path=\"url(#pb8f2e57414)\"/>\n",
       "   </g>\n",
       "   <g id=\"line2d_55\">\n",
       "    <g clip-path=\"url(#pb8f2e57414)\"/>\n",
       "   </g>\n",
       "   <g id=\"line2d_56\">\n",
       "    <g clip-path=\"url(#pb8f2e57414)\"/>\n",
       "   </g>\n",
       "   <g id=\"line2d_57\">\n",
       "    <g clip-path=\"url(#pb8f2e57414)\"/>\n",
       "   </g>\n",
       "   <g id=\"line2d_58\">\n",
       "    <g clip-path=\"url(#pb8f2e57414)\"/>\n",
       "   </g>\n",
       "   <g id=\"line2d_59\">\n",
       "    <g clip-path=\"url(#pb8f2e57414)\">\n",
       "     <use xlink:href=\"#m73e9c2d4c1\" x=\"230.762431\" y=\"122.969147\" style=\"stroke: #000000\"/>\n",
       "    </g>\n",
       "   </g>\n",
       "   <g id=\"line2d_60\">\n",
       "    <g clip-path=\"url(#pb8f2e57414)\">\n",
       "     <use xlink:href=\"#m73e9c2d4c1\" x=\"225.612233\" y=\"138.320061\" style=\"stroke: #000000\"/>\n",
       "    </g>\n",
       "   </g>\n",
       "   <g id=\"line2d_61\">\n",
       "    <g clip-path=\"url(#pb8f2e57414)\"/>\n",
       "   </g>\n",
       "   <g id=\"line2d_62\">\n",
       "    <g clip-path=\"url(#pb8f2e57414)\"/>\n",
       "   </g>\n",
       "   <g id=\"line2d_63\">\n",
       "    <g clip-path=\"url(#pb8f2e57414)\">\n",
       "     <use xlink:href=\"#m73e9c2d4c1\" x=\"142.001121\" y=\"387.535115\" style=\"stroke: #000000\"/>\n",
       "    </g>\n",
       "   </g>\n",
       "   <g id=\"line2d_64\">\n",
       "    <g clip-path=\"url(#pb8f2e57414)\">\n",
       "     <use xlink:href=\"#m73e9c2d4c1\" x=\"208.974981\" y=\"187.909805\" style=\"stroke: #000000\"/>\n",
       "    </g>\n",
       "   </g>\n",
       "   <g id=\"line2d_65\">\n",
       "    <g clip-path=\"url(#pb8f2e57414)\">\n",
       "     <use xlink:href=\"#m73e9c2d4c1\" x=\"59.116178\" y=\"634.585721\" style=\"stroke: #000000\"/>\n",
       "    </g>\n",
       "   </g>\n",
       "   <g id=\"line2d_66\">\n",
       "    <g clip-path=\"url(#pb8f2e57414)\">\n",
       "     <use xlink:href=\"#m73e9c2d4c1\" x=\"57.059044\" y=\"640.717306\" style=\"stroke: #000000\"/>\n",
       "    </g>\n",
       "   </g>\n",
       "   <g id=\"line2d_67\">\n",
       "    <g clip-path=\"url(#pb8f2e57414)\">\n",
       "     <use xlink:href=\"#m73e9c2d4c1\" x=\"252.13644\" y=\"59.260812\" style=\"stroke: #000000\"/>\n",
       "    </g>\n",
       "   </g>\n",
       "   <g id=\"line2d_68\">\n",
       "    <g clip-path=\"url(#pb8f2e57414)\"/>\n",
       "   </g>\n",
       "   <g id=\"line2d_69\">\n",
       "    <g clip-path=\"url(#pb8f2e57414)\"/>\n",
       "   </g>\n",
       "   <g id=\"line2d_70\">\n",
       "    <g clip-path=\"url(#pb8f2e57414)\">\n",
       "     <use xlink:href=\"#m73e9c2d4c1\" x=\"170.547617\" y=\"302.448141\" style=\"stroke: #000000\"/>\n",
       "    </g>\n",
       "   </g>\n",
       "   <g id=\"line2d_71\">\n",
       "    <g clip-path=\"url(#pb8f2e57414)\">\n",
       "     <use xlink:href=\"#m73e9c2d4c1\" x=\"83.117563\" y=\"563.046109\" style=\"stroke: #000000\"/>\n",
       "    </g>\n",
       "   </g>\n",
       "   <g id=\"line2d_72\">\n",
       "    <g clip-path=\"url(#pb8f2e57414)\">\n",
       "     <use xlink:href=\"#m73e9c2d4c1\" x=\"40.695237\" y=\"689.492008\" style=\"stroke: #000000\"/>\n",
       "    </g>\n",
       "   </g>\n",
       "   <g id=\"line2d_73\">\n",
       "    <g clip-path=\"url(#pb8f2e57414)\">\n",
       "     <use xlink:href=\"#m73e9c2d4c1\" x=\"244.266376\" y=\"82.718678\" style=\"stroke: #000000\"/>\n",
       "    </g>\n",
       "   </g>\n",
       "   <g id=\"line2d_74\">\n",
       "    <g clip-path=\"url(#pb8f2e57414)\">\n",
       "     <use xlink:href=\"#m73e9c2d4c1\" x=\"235.264497\" y=\"109.550087\" style=\"stroke: #000000\"/>\n",
       "    </g>\n",
       "   </g>\n",
       "   <g id=\"line2d_75\">\n",
       "    <g clip-path=\"url(#pb8f2e57414)\">\n",
       "     <use xlink:href=\"#m73e9c2d4c1\" x=\"242.639959\" y=\"87.56645\" style=\"stroke: #000000\"/>\n",
       "    </g>\n",
       "   </g>\n",
       "   <g id=\"line2d_76\">\n",
       "    <g clip-path=\"url(#pb8f2e57414)\">\n",
       "     <use xlink:href=\"#m73e9c2d4c1\" x=\"90.821489\" y=\"540.083438\" style=\"stroke: #000000\"/>\n",
       "    </g>\n",
       "   </g>\n",
       "   <g id=\"line2d_77\">\n",
       "    <g clip-path=\"url(#pb8f2e57414)\">\n",
       "     <use xlink:href=\"#m73e9c2d4c1\" x=\"90.014276\" y=\"542.489455\" style=\"stroke: #000000\"/>\n",
       "    </g>\n",
       "   </g>\n",
       "   <g id=\"line2d_78\">\n",
       "    <g clip-path=\"url(#pb8f2e57414)\"/>\n",
       "   </g>\n",
       "   <g id=\"line2d_79\">\n",
       "    <g clip-path=\"url(#pb8f2e57414)\">\n",
       "     <use xlink:href=\"#m73e9c2d4c1\" x=\"115.524199\" y=\"466.453427\" style=\"stroke: #000000\"/>\n",
       "    </g>\n",
       "   </g>\n",
       "   <g id=\"line2d_80\">\n",
       "    <g clip-path=\"url(#pb8f2e57414)\"/>\n",
       "   </g>\n",
       "   <g id=\"line2d_81\">\n",
       "    <g clip-path=\"url(#pb8f2e57414)\"/>\n",
       "   </g>\n",
       "   <g id=\"line2d_82\">\n",
       "    <g clip-path=\"url(#pb8f2e57414)\"/>\n",
       "   </g>\n",
       "   <g id=\"line2d_83\">\n",
       "    <g clip-path=\"url(#pb8f2e57414)\"/>\n",
       "   </g>\n",
       "   <g id=\"line2d_84\">\n",
       "    <g clip-path=\"url(#pb8f2e57414)\">\n",
       "     <use xlink:href=\"#m73e9c2d4c1\" x=\"262.981913\" y=\"26.934304\" style=\"stroke: #000000\"/>\n",
       "    </g>\n",
       "   </g>\n",
       "   <g id=\"line2d_85\">\n",
       "    <g clip-path=\"url(#pb8f2e57414)\">\n",
       "     <use xlink:href=\"#m73e9c2d4c1\" x=\"266.821319\" y=\"15.490398\" style=\"stroke: #000000\"/>\n",
       "    </g>\n",
       "   </g>\n",
       "   <g id=\"line2d_86\">\n",
       "    <g clip-path=\"url(#pb8f2e57414)\">\n",
       "     <use xlink:href=\"#m73e9c2d4c1\" x=\"228.405309\" y=\"129.994893\" style=\"stroke: #000000\"/>\n",
       "    </g>\n",
       "   </g>\n",
       "   <g id=\"line2d_87\">\n",
       "    <g clip-path=\"url(#pb8f2e57414)\">\n",
       "     <use xlink:href=\"#m73e9c2d4c1\" x=\"57.384123\" y=\"639.748362\" style=\"stroke: #000000\"/>\n",
       "    </g>\n",
       "   </g>\n",
       "   <g id=\"line2d_88\">\n",
       "    <g clip-path=\"url(#pb8f2e57414)\">\n",
       "     <use xlink:href=\"#m73e9c2d4c1\" x=\"213.21238\" y=\"175.279621\" style=\"stroke: #000000\"/>\n",
       "    </g>\n",
       "   </g>\n",
       "   <g id=\"line2d_89\">\n",
       "    <g clip-path=\"url(#pb8f2e57414)\">\n",
       "     <use xlink:href=\"#m73e9c2d4c1\" x=\"156.938985\" y=\"343.010645\" style=\"stroke: #000000\"/>\n",
       "    </g>\n",
       "   </g>\n",
       "   <g id=\"line2d_90\">\n",
       "    <g clip-path=\"url(#pb8f2e57414)\"/>\n",
       "   </g>\n",
       "   <g id=\"line2d_91\">\n",
       "    <g clip-path=\"url(#pb8f2e57414)\">\n",
       "     <use xlink:href=\"#m73e9c2d4c1\" x=\"262.880123\" y=\"27.237705\" style=\"stroke: #000000\"/>\n",
       "    </g>\n",
       "   </g>\n",
       "   <g id=\"line2d_92\">\n",
       "    <g clip-path=\"url(#pb8f2e57414)\"/>\n",
       "   </g>\n",
       "   <g id=\"line2d_93\">\n",
       "    <g clip-path=\"url(#pb8f2e57414)\">\n",
       "     <use xlink:href=\"#m73e9c2d4c1\" x=\"239.29623\" y=\"97.532921\" style=\"stroke: #000000\"/>\n",
       "    </g>\n",
       "   </g>\n",
       "   <g id=\"line2d_94\">\n",
       "    <g clip-path=\"url(#pb8f2e57414)\">\n",
       "     <use xlink:href=\"#m73e9c2d4c1\" x=\"153.735667\" y=\"352.558599\" style=\"stroke: #000000\"/>\n",
       "    </g>\n",
       "   </g>\n",
       "   <g id=\"line2d_95\">\n",
       "    <g clip-path=\"url(#pb8f2e57414)\">\n",
       "     <use xlink:href=\"#m73e9c2d4c1\" x=\"256.301139\" y=\"46.847321\" style=\"stroke: #000000\"/>\n",
       "    </g>\n",
       "   </g>\n",
       "   <g id=\"line2d_96\">\n",
       "    <g clip-path=\"url(#pb8f2e57414)\">\n",
       "     <use xlink:href=\"#m73e9c2d4c1\" x=\"188.352229\" y=\"249.378912\" style=\"stroke: #000000\"/>\n",
       "    </g>\n",
       "   </g>\n",
       "   <g id=\"line2d_97\">\n",
       "    <g clip-path=\"url(#pb8f2e57414)\">\n",
       "     <use xlink:href=\"#m73e9c2d4c1\" x=\"36.55501\" y=\"701.832558\" style=\"stroke: #000000\"/>\n",
       "    </g>\n",
       "   </g>\n",
       "   <g id=\"line2d_98\">\n",
       "    <g clip-path=\"url(#pb8f2e57414)\">\n",
       "     <use xlink:href=\"#m73e9c2d4c1\" x=\"233.839093\" y=\"113.798711\" style=\"stroke: #000000\"/>\n",
       "    </g>\n",
       "   </g>\n",
       "   <g id=\"line2d_99\">\n",
       "    <g clip-path=\"url(#pb8f2e57414)\"/>\n",
       "   </g>\n",
       "   <g id=\"line2d_100\">\n",
       "    <g clip-path=\"url(#pb8f2e57414)\"/>\n",
       "   </g>\n",
       "   <g id=\"line2d_101\">\n",
       "    <g clip-path=\"url(#pb8f2e57414)\">\n",
       "     <use xlink:href=\"#m73e9c2d4c1\" x=\"242.658219\" y=\"87.512023\" style=\"stroke: #000000\"/>\n",
       "    </g>\n",
       "   </g>\n",
       "   <g id=\"line2d_102\">\n",
       "    <g clip-path=\"url(#pb8f2e57414)\">\n",
       "     <use xlink:href=\"#m73e9c2d4c1\" x=\"50.462824\" y=\"660.378299\" style=\"stroke: #000000\"/>\n",
       "    </g>\n",
       "   </g>\n",
       "   <g id=\"line2d_103\">\n",
       "    <g clip-path=\"url(#pb8f2e57414)\">\n",
       "     <use xlink:href=\"#m73e9c2d4c1\" x=\"35.214828\" y=\"705.827163\" style=\"stroke: #000000\"/>\n",
       "    </g>\n",
       "   </g>\n",
       "   <g id=\"line2d_104\">\n",
       "    <g clip-path=\"url(#pb8f2e57414)\"/>\n",
       "   </g>\n",
       "   <g id=\"line2d_105\">\n",
       "    <g clip-path=\"url(#pb8f2e57414)\">\n",
       "     <use xlink:href=\"#m73e9c2d4c1\" x=\"60.493329\" y=\"630.480922\" style=\"stroke: #000000\"/>\n",
       "    </g>\n",
       "   </g>\n",
       "   <g id=\"line2d_106\">\n",
       "    <g clip-path=\"url(#pb8f2e57414)\">\n",
       "     <use xlink:href=\"#m73e9c2d4c1\" x=\"173.563964\" y=\"293.457481\" style=\"stroke: #000000\"/>\n",
       "    </g>\n",
       "   </g>\n",
       "   <g id=\"line2d_107\">\n",
       "    <g clip-path=\"url(#pb8f2e57414)\">\n",
       "     <use xlink:href=\"#m73e9c2d4c1\" x=\"246.372081\" y=\"76.442318\" style=\"stroke: #000000\"/>\n",
       "    </g>\n",
       "   </g>\n",
       "   <g id=\"line2d_108\">\n",
       "    <g clip-path=\"url(#pb8f2e57414)\">\n",
       "     <use xlink:href=\"#m73e9c2d4c1\" x=\"221.441274\" y=\"150.752208\" style=\"stroke: #000000\"/>\n",
       "    </g>\n",
       "   </g>\n",
       "   <g id=\"line2d_109\">\n",
       "    <g clip-path=\"url(#pb8f2e57414)\"/>\n",
       "   </g>\n",
       "   <g id=\"line2d_110\">\n",
       "    <g clip-path=\"url(#pb8f2e57414)\">\n",
       "     <use xlink:href=\"#m73e9c2d4c1\" x=\"178.653523\" y=\"278.287311\" style=\"stroke: #000000\"/>\n",
       "    </g>\n",
       "   </g>\n",
       "   <g id=\"line2d_111\">\n",
       "    <g clip-path=\"url(#pb8f2e57414)\"/>\n",
       "   </g>\n",
       "   <g id=\"line2d_112\">\n",
       "    <g clip-path=\"url(#pb8f2e57414)\">\n",
       "     <use xlink:href=\"#m73e9c2d4c1\" x=\"224.628917\" y=\"141.250976\" style=\"stroke: #000000\"/>\n",
       "    </g>\n",
       "   </g>\n",
       "   <g id=\"line2d_113\">\n",
       "    <g clip-path=\"url(#pb8f2e57414)\">\n",
       "     <use xlink:href=\"#m73e9c2d4c1\" x=\"146.025278\" y=\"375.540531\" style=\"stroke: #000000\"/>\n",
       "    </g>\n",
       "   </g>\n",
       "   <g id=\"line2d_114\">\n",
       "    <g clip-path=\"url(#pb8f2e57414)\">\n",
       "     <use xlink:href=\"#m73e9c2d4c1\" x=\"149.51659\" y=\"365.134169\" style=\"stroke: #000000\"/>\n",
       "    </g>\n",
       "   </g>\n",
       "   <g id=\"line2d_115\">\n",
       "    <g clip-path=\"url(#pb8f2e57414)\"/>\n",
       "   </g>\n",
       "   <g id=\"line2d_116\">\n",
       "    <g clip-path=\"url(#pb8f2e57414)\"/>\n",
       "   </g>\n",
       "   <g id=\"line2d_117\">\n",
       "    <g clip-path=\"url(#pb8f2e57414)\">\n",
       "     <use xlink:href=\"#m73e9c2d4c1\" x=\"234.998344\" y=\"110.343395\" style=\"stroke: #000000\"/>\n",
       "    </g>\n",
       "   </g>\n",
       "   <g id=\"line2d_118\">\n",
       "    <g clip-path=\"url(#pb8f2e57414)\">\n",
       "     <use xlink:href=\"#m73e9c2d4c1\" x=\"168.867638\" y=\"307.455563\" style=\"stroke: #000000\"/>\n",
       "    </g>\n",
       "   </g>\n",
       "   <g id=\"line2d_119\">\n",
       "    <g clip-path=\"url(#pb8f2e57414)\">\n",
       "     <use xlink:href=\"#m73e9c2d4c1\" x=\"123.585537\" y=\"442.425439\" style=\"stroke: #000000\"/>\n",
       "    </g>\n",
       "   </g>\n",
       "   <g id=\"line2d_120\">\n",
       "    <g clip-path=\"url(#pb8f2e57414)\">\n",
       "     <use xlink:href=\"#m73e9c2d4c1\" x=\"62.820892\" y=\"623.543283\" style=\"stroke: #000000\"/>\n",
       "    </g>\n",
       "   </g>\n",
       "   <g id=\"line2d_121\">\n",
       "    <g clip-path=\"url(#pb8f2e57414)\">\n",
       "     <use xlink:href=\"#m73e9c2d4c1\" x=\"151.174579\" y=\"360.192293\" style=\"stroke: #000000\"/>\n",
       "    </g>\n",
       "   </g>\n",
       "   <g id=\"line2d_122\">\n",
       "    <g clip-path=\"url(#pb8f2e57414)\">\n",
       "     <use xlink:href=\"#m73e9c2d4c1\" x=\"51.986841\" y=\"655.835746\" style=\"stroke: #000000\"/>\n",
       "    </g>\n",
       "   </g>\n",
       "   <g id=\"line2d_123\">\n",
       "    <g clip-path=\"url(#pb8f2e57414)\">\n",
       "     <use xlink:href=\"#m73e9c2d4c1\" x=\"245.041634\" y=\"80.407911\" style=\"stroke: #000000\"/>\n",
       "    </g>\n",
       "   </g>\n",
       "   <g id=\"line2d_124\">\n",
       "    <g clip-path=\"url(#pb8f2e57414)\">\n",
       "     <use xlink:href=\"#m73e9c2d4c1\" x=\"75.409232\" y=\"586.021908\" style=\"stroke: #000000\"/>\n",
       "    </g>\n",
       "   </g>\n",
       "   <g id=\"line2d_125\">\n",
       "    <g clip-path=\"url(#pb8f2e57414)\">\n",
       "     <use xlink:href=\"#m73e9c2d4c1\" x=\"137.789621\" y=\"400.088103\" style=\"stroke: #000000\"/>\n",
       "    </g>\n",
       "   </g>\n",
       "   <g id=\"line2d_126\">\n",
       "    <g clip-path=\"url(#pb8f2e57414)\">\n",
       "     <use xlink:href=\"#m73e9c2d4c1\" x=\"182.133191\" y=\"267.915657\" style=\"stroke: #000000\"/>\n",
       "    </g>\n",
       "   </g>\n",
       "   <g id=\"line2d_127\">\n",
       "    <g clip-path=\"url(#pb8f2e57414)\"/>\n",
       "   </g>\n",
       "   <g id=\"line2d_128\">\n",
       "    <g clip-path=\"url(#pb8f2e57414)\">\n",
       "     <use xlink:href=\"#m73e9c2d4c1\" x=\"165.485515\" y=\"317.536472\" style=\"stroke: #000000\"/>\n",
       "    </g>\n",
       "   </g>\n",
       "   <g id=\"patch_3\">\n",
       "    <path d=\"M 34.839063 374.307188 \n",
       "L 34.839063 41.667187 \n",
       "\" style=\"fill: none; stroke: #000000; stroke-width: 0.8; stroke-linejoin: miter; stroke-linecap: square\"/>\n",
       "   </g>\n",
       "   <g id=\"patch_4\">\n",
       "    <path d=\"M 369.639063 374.307188 \n",
       "L 369.639063 41.667187 \n",
       "\" style=\"fill: none; stroke: #000000; stroke-width: 0.8; stroke-linejoin: miter; stroke-linecap: square\"/>\n",
       "   </g>\n",
       "   <g id=\"patch_5\">\n",
       "    <path d=\"M 34.839063 374.307188 \n",
       "L 369.639063 374.307188 \n",
       "\" style=\"fill: none; stroke: #000000; stroke-width: 0.8; stroke-linejoin: miter; stroke-linecap: square\"/>\n",
       "   </g>\n",
       "   <g id=\"patch_6\">\n",
       "    <path d=\"M 34.839063 41.667188 \n",
       "L 369.639063 41.667188 \n",
       "\" style=\"fill: none; stroke: #000000; stroke-width: 0.8; stroke-linejoin: miter; stroke-linecap: square\"/>\n",
       "   </g>\n",
       "   <g id=\"text_15\">\n",
       "    <!-- A) -->\n",
       "    <g transform=\"translate(13.914062 20.877187) scale(0.18 -0.18)\">\n",
       "     <defs>\n",
       "      <path id=\"DejaVuSans-Bold-41\" d=\"M 3419 850 \n",
       "L 1538 850 \n",
       "L 1241 0 \n",
       "L 31 0 \n",
       "L 1759 4666 \n",
       "L 3194 4666 \n",
       "L 4922 0 \n",
       "L 3713 0 \n",
       "L 3419 850 \n",
       "z\n",
       "M 1838 1716 \n",
       "L 3116 1716 \n",
       "L 2478 3572 \n",
       "L 1838 1716 \n",
       "z\n",
       "\" transform=\"scale(0.015625)\"/>\n",
       "      <path id=\"DejaVuSans-Bold-29\" d=\"M 513 -844 \n",
       "Q 913 -100 1113 609 \n",
       "Q 1313 1319 1313 2009 \n",
       "Q 1313 2700 1113 3408 \n",
       "Q 913 4116 513 4856 \n",
       "L 1441 4856 \n",
       "Q 1916 4091 2145 3389 \n",
       "Q 2375 2688 2375 2003 \n",
       "Q 2375 1319 2147 623 \n",
       "Q 1919 -72 1441 -844 \n",
       "L 513 -844 \n",
       "z\n",
       "\" transform=\"scale(0.015625)\"/>\n",
       "     </defs>\n",
       "     <use xlink:href=\"#DejaVuSans-Bold-41\"/>\n",
       "     <use xlink:href=\"#DejaVuSans-Bold-29\" x=\"77.392578\"/>\n",
       "    </g>\n",
       "   </g>\n",
       "  </g>\n",
       " </g>\n",
       " <defs>\n",
       "  <clipPath id=\"pb8f2e57414\">\n",
       "   <rect x=\"34.839063\" y=\"41.667188\" width=\"334.8\" height=\"332.64\"/>\n",
       "  </clipPath>\n",
       " </defs>\n",
       "</svg>\n"
      ],
      "text/plain": [
       "<Figure size 600x600 with 1 Axes>"
      ]
     },
     "metadata": {},
     "output_type": "display_data"
    }
   ],
   "source": [
    "#2-3\n",
    "\n",
    "# the vector set (just one vector)\n",
    "A  = np.array([ 1,3 ])\n",
    "\n",
    "# x-axis range\n",
    "xlim = [-4,4]\n",
    "\n",
    "# random scalars in that range\n",
    "scalars = np.random.uniform(low=xlim[0],high=xlim[1],size=100)\n",
    "\n",
    "\n",
    "\n",
    "# create a figure, etc\n",
    "plt.figure(figsize=(6,6))\n",
    "\n",
    "# loop over the random scalars\n",
    "for s in scalars:\n",
    "    p = A*s\n",
    "    plt.plot(p[0],p[1],'ko')\n",
    "\n",
    "\n",
    "plt.xlim(xlim)\n",
    "plt.ylim(xlim)\n",
    "plt.grid()\n",
    "plt.text(-4.5,4.5,'A)',fontweight='bold',fontsize=18)\n",
    "plt.savefig('Figure_02_07a.png',dpi=300)\n",
    "plt.show()"
   ]
  },
  {
   "cell_type": "code",
   "execution_count": 8,
   "metadata": {},
   "outputs": [
    {
     "data": {
      "application/vnd.plotly.v1+json": {
       "config": {
        "plotlyServerURL": "https://plot.ly"
       },
       "data": [
        {
         "marker": {
          "color": "black",
          "size": 6
         },
         "mode": "markers",
         "type": "scatter3d",
         "x": [
          -7.304602032994017,
          0.44379621711897865,
          -0.4638697861021299,
          3.4972230032485765,
          -2.054287159189358,
          2.1748256534323787,
          9.205282197731663,
          -5.25120960933983,
          10.095161015394938,
          11.06941024918131,
          11.140075124211975,
          9.055942419750465,
          -6.405042620472764,
          -4.394700008742391,
          -11.227457935908904,
          5.528897390559528,
          -9.556470144325484,
          -9.520431243673386,
          5.798673317340654,
          -0.8297051865915881,
          -7.648577100417643,
          -1.5139323241845721,
          -4.5018288190575495,
          -11.731490528773874,
          -11.674570917341658,
          -1.8512123378701668,
          4.259711806743663,
          2.608539496651127,
          -7.207782486067348,
          0.5468046296206586,
          10.01187150692243,
          -7.616084937118718,
          -10.94526699276405,
          3.456699974222878,
          -0.7945396453924047,
          -2.9797122189142833,
          10.954697407461943,
          3.249145138317706,
          -6.982382190573188,
          6.151515808826513,
          6.995292666216963,
          3.354317575611449,
          8.352373455410035,
          6.033556963646601,
          -7.467731269273697,
          -2.4896037419963983,
          2.8906836752037606,
          5.689544449378372,
          -7.722953792382692,
          -7.3934402588791155,
          0.8631603307038036,
          1.9469462291098196,
          -11.981397288598465,
          2.0718546387188823,
          1.5624967022655616,
          10.287572469869147,
          11.410725721937744,
          -11.29511451479762,
          -3.094011869536666,
          -7.552746108875756,
          4.9050591252969244,
          -7.89444394462133,
          0.8145268406089716,
          3.5295252688082375,
          -2.9989267712529166,
          -8.036127620944894,
          10.866234033321362,
          -8.602612187686972,
          -0.0004619364991507169,
          9.035724767628231,
          2.5128365611922527,
          -0.16733615344166797,
          3.2085282780014754,
          -9.947169189255028,
          5.003999542666283,
          10.76143013062437,
          9.290916426573261,
          -6.969108846087571,
          1.3968827130121069,
          2.759207379980155,
          8.047324227840043,
          2.783205873202503,
          -9.908648182419988,
          -11.89930250995203,
          1.470307241056477,
          8.097451303326997,
          0.6535839073576692,
          11.6747830220514,
          7.587621072125933,
          6.515715051396529,
          11.752265267529122,
          4.4251185554708155,
          4.709722580728864,
          -10.601312299964963,
          9.190038975923686,
          -7.248312488914026,
          11.81867307869567,
          4.0070238813021115,
          -5.080991739657493,
          10.90230870550473
         ],
         "y": [
          -11.57649311056856,
          8.57566682768396,
          -5.14788781397646,
          2.1726016340198377,
          3.420590395500329,
          -2.6248399696704077,
          21.617127392448126,
          -14.277252665249636,
          15.855744471749853,
          22.070549003728942,
          14.4518453496346,
          7.690284595532557,
          -8.32259705443168,
          -12.216458768148986,
          -25.096103132736513,
          5.910089604973079,
          -14.084766770917296,
          -20.633616675996073,
          5.890897771166362,
          -5.72928403811327,
          -6.2061992564834245,
          2.4985313454175175,
          0.031268669713647945,
          -27.224357885628322,
          -12.296751723858856,
          -10.281966341584717,
          -0.29135411474277007,
          -1.3110871842064205,
          -15.77925130810276,
          0.4692519560793853,
          9.421939906876256,
          -7.9257314730284225,
          -14.637827384875811,
          11.559626206820187,
          3.8608822165702463,
          -8.729981441236951,
          20.58209749411675,
          12.644383519708018,
          -17.84806828048442,
          4.5037122342185025,
          14.404881911523614,
          -0.46957510680466097,
          12.154803286924528,
          6.757089609016589,
          -13.176715118594318,
          -4.589627812328904,
          7.626749979618035,
          14.257481322703391,
          -15.209849721024657,
          -5.861586211652922,
          -0.27939156946166666,
          -3.8596008838917797,
          -20.725323904081463,
          -1.3916865392413076,
          7.062514080412256,
          11.323920515766163,
          25.218256817134414,
          -19.680767876801376,
          0.17957677710890518,
          -13.386356248993446,
          9.837719915355038,
          -20.667146400345402,
          2.6651652899266285,
          8.860692857723373,
          -11.846964623245581,
          -10.289550257806845,
          15.072510802089393,
          -20.090228586418817,
          6.716192769789466,
          21.00620541666526,
          0.4920325597480444,
          -2.751894596055469,
          5.887357697822093,
          -18.95418637435742,
          0.9951376428748819,
          22.182230604645657,
          16.60493832618335,
          -18.633219195651982,
          -1.8654525667892168,
          -3.273153405753047,
          16.76289546996592,
          3.0833002002351133,
          -15.554545625439914,
          -20.342908893437343,
          -0.373896531925344,
          15.860628379883972,
          8.372085146059435,
          12.593604602266502,
          7.096221055716324,
          6.742601185874017,
          22.371083708145868,
          5.166372249131468,
          2.602702665184597,
          -15.147431689211206,
          7.877070354831723,
          -13.635543650819915,
          23.72193425599284,
          8.31580500729972,
          -13.17546756416958,
          12.144782943657713
         ],
         "z": [
          -1.8370237332432033,
          7.98393853819199,
          -4.529394765840287,
          -2.4903623703115976,
          6.15963994108614,
          -5.524607507580246,
          9.343417795472575,
          -7.275639852796529,
          2.395529784556601,
          7.311335338153866,
          -0.40158814931469955,
          -4.384305297468064,
          0.21745977286533869,
          -6.356858756492463,
          -10.126159218191306,
          -1.4617735824396236,
          -1.3428065784833176,
          -7.939708351098226,
          -1.8406666519545105,
          -4.623010455991152,
          3.9919035440734314,
          4.517107777663614,
          6.033707095123714,
          -11.582370513929824,
          3.269342832596686,
          -7.813683224424493,
          -5.970969857067654,
          -4.789139846407923,
          -6.168874660012962,
          -0.2598208834148261,
          -3.9272221023536495,
          2.2290484431298676,
          -0.04413806119041208,
          6.950692907856351,
          4.920268410426786,
          -4.757031816017907,
          5.975834284167489,
          8.312190001951077,
          -8.538225359720169,
          -3.6983088442168484,
          5.077825023234329,
          -4.94199854095326,
          1.0183053463778124,
          -1.2876530091788796,
          -3.219740092896055,
          -1.270156156333706,
          3.772505079346354,
          6.671422056865562,
          -4.912577997847735,
          3.996334133519232,
          -1.4302720104000715,
          -6.455529189371539,
          -4.7501275192835095,
          -4.154159390866484,
          4.979185144058174,
          -2.3928427773926995,
          10.003955854550753,
          -4.620615190404548,
          4.304925936491126,
          -3.3160281038257695,
          3.2976410816258053,
          -10.141221140850295,
          1.5791295024479997,
          4.154659165979057,
          -7.848395594908359,
          0.4252865701196811,
          0.5841987576609107,
          -8.620079002836189,
          6.716808685121667,
          8.958572393160953,
          -2.8584161885082926,
          -2.5287797247999118,
          1.609319993820126,
          -5.69129412201738,
          -5.6768617473468295,
          7.833657097146494,
          4.217049757418999,
          -9.341074067535224,
          -3.7279628508053593,
          -6.95209657905992,
          6.033129832845865,
          -0.6276409640348906,
          -2.343014715546599,
          -4.477172213501306,
          -2.3343061866673134,
          5.0640266421146425,
          7.500639936249209,
          -2.972772760468696,
          -3.020607040451586,
          -1.9450188826546873,
          6.701396684773705,
          -0.733785824829619,
          -3.6769274424538887,
          -1.0123486225912535,
          -4.376314946399859,
          -3.9711269989345475,
          7.963703484398611,
          2.9731064988969047,
          -6.400811911292922,
          -2.391628663681929
         ]
        }
       ],
       "layout": {
        "margin": {
         "b": 0,
         "l": 0,
         "r": 0,
         "t": 0
        },
        "template": {
         "data": {
          "bar": [
           {
            "error_x": {
             "color": "#2a3f5f"
            },
            "error_y": {
             "color": "#2a3f5f"
            },
            "marker": {
             "line": {
              "color": "#E5ECF6",
              "width": 0.5
             },
             "pattern": {
              "fillmode": "overlay",
              "size": 10,
              "solidity": 0.2
             }
            },
            "type": "bar"
           }
          ],
          "barpolar": [
           {
            "marker": {
             "line": {
              "color": "#E5ECF6",
              "width": 0.5
             },
             "pattern": {
              "fillmode": "overlay",
              "size": 10,
              "solidity": 0.2
             }
            },
            "type": "barpolar"
           }
          ],
          "carpet": [
           {
            "aaxis": {
             "endlinecolor": "#2a3f5f",
             "gridcolor": "white",
             "linecolor": "white",
             "minorgridcolor": "white",
             "startlinecolor": "#2a3f5f"
            },
            "baxis": {
             "endlinecolor": "#2a3f5f",
             "gridcolor": "white",
             "linecolor": "white",
             "minorgridcolor": "white",
             "startlinecolor": "#2a3f5f"
            },
            "type": "carpet"
           }
          ],
          "choropleth": [
           {
            "colorbar": {
             "outlinewidth": 0,
             "ticks": ""
            },
            "type": "choropleth"
           }
          ],
          "contour": [
           {
            "colorbar": {
             "outlinewidth": 0,
             "ticks": ""
            },
            "colorscale": [
             [
              0,
              "#0d0887"
             ],
             [
              0.1111111111111111,
              "#46039f"
             ],
             [
              0.2222222222222222,
              "#7201a8"
             ],
             [
              0.3333333333333333,
              "#9c179e"
             ],
             [
              0.4444444444444444,
              "#bd3786"
             ],
             [
              0.5555555555555556,
              "#d8576b"
             ],
             [
              0.6666666666666666,
              "#ed7953"
             ],
             [
              0.7777777777777778,
              "#fb9f3a"
             ],
             [
              0.8888888888888888,
              "#fdca26"
             ],
             [
              1,
              "#f0f921"
             ]
            ],
            "type": "contour"
           }
          ],
          "contourcarpet": [
           {
            "colorbar": {
             "outlinewidth": 0,
             "ticks": ""
            },
            "type": "contourcarpet"
           }
          ],
          "heatmap": [
           {
            "colorbar": {
             "outlinewidth": 0,
             "ticks": ""
            },
            "colorscale": [
             [
              0,
              "#0d0887"
             ],
             [
              0.1111111111111111,
              "#46039f"
             ],
             [
              0.2222222222222222,
              "#7201a8"
             ],
             [
              0.3333333333333333,
              "#9c179e"
             ],
             [
              0.4444444444444444,
              "#bd3786"
             ],
             [
              0.5555555555555556,
              "#d8576b"
             ],
             [
              0.6666666666666666,
              "#ed7953"
             ],
             [
              0.7777777777777778,
              "#fb9f3a"
             ],
             [
              0.8888888888888888,
              "#fdca26"
             ],
             [
              1,
              "#f0f921"
             ]
            ],
            "type": "heatmap"
           }
          ],
          "heatmapgl": [
           {
            "colorbar": {
             "outlinewidth": 0,
             "ticks": ""
            },
            "colorscale": [
             [
              0,
              "#0d0887"
             ],
             [
              0.1111111111111111,
              "#46039f"
             ],
             [
              0.2222222222222222,
              "#7201a8"
             ],
             [
              0.3333333333333333,
              "#9c179e"
             ],
             [
              0.4444444444444444,
              "#bd3786"
             ],
             [
              0.5555555555555556,
              "#d8576b"
             ],
             [
              0.6666666666666666,
              "#ed7953"
             ],
             [
              0.7777777777777778,
              "#fb9f3a"
             ],
             [
              0.8888888888888888,
              "#fdca26"
             ],
             [
              1,
              "#f0f921"
             ]
            ],
            "type": "heatmapgl"
           }
          ],
          "histogram": [
           {
            "marker": {
             "pattern": {
              "fillmode": "overlay",
              "size": 10,
              "solidity": 0.2
             }
            },
            "type": "histogram"
           }
          ],
          "histogram2d": [
           {
            "colorbar": {
             "outlinewidth": 0,
             "ticks": ""
            },
            "colorscale": [
             [
              0,
              "#0d0887"
             ],
             [
              0.1111111111111111,
              "#46039f"
             ],
             [
              0.2222222222222222,
              "#7201a8"
             ],
             [
              0.3333333333333333,
              "#9c179e"
             ],
             [
              0.4444444444444444,
              "#bd3786"
             ],
             [
              0.5555555555555556,
              "#d8576b"
             ],
             [
              0.6666666666666666,
              "#ed7953"
             ],
             [
              0.7777777777777778,
              "#fb9f3a"
             ],
             [
              0.8888888888888888,
              "#fdca26"
             ],
             [
              1,
              "#f0f921"
             ]
            ],
            "type": "histogram2d"
           }
          ],
          "histogram2dcontour": [
           {
            "colorbar": {
             "outlinewidth": 0,
             "ticks": ""
            },
            "colorscale": [
             [
              0,
              "#0d0887"
             ],
             [
              0.1111111111111111,
              "#46039f"
             ],
             [
              0.2222222222222222,
              "#7201a8"
             ],
             [
              0.3333333333333333,
              "#9c179e"
             ],
             [
              0.4444444444444444,
              "#bd3786"
             ],
             [
              0.5555555555555556,
              "#d8576b"
             ],
             [
              0.6666666666666666,
              "#ed7953"
             ],
             [
              0.7777777777777778,
              "#fb9f3a"
             ],
             [
              0.8888888888888888,
              "#fdca26"
             ],
             [
              1,
              "#f0f921"
             ]
            ],
            "type": "histogram2dcontour"
           }
          ],
          "mesh3d": [
           {
            "colorbar": {
             "outlinewidth": 0,
             "ticks": ""
            },
            "type": "mesh3d"
           }
          ],
          "parcoords": [
           {
            "line": {
             "colorbar": {
              "outlinewidth": 0,
              "ticks": ""
             }
            },
            "type": "parcoords"
           }
          ],
          "pie": [
           {
            "automargin": true,
            "type": "pie"
           }
          ],
          "scatter": [
           {
            "fillpattern": {
             "fillmode": "overlay",
             "size": 10,
             "solidity": 0.2
            },
            "type": "scatter"
           }
          ],
          "scatter3d": [
           {
            "line": {
             "colorbar": {
              "outlinewidth": 0,
              "ticks": ""
             }
            },
            "marker": {
             "colorbar": {
              "outlinewidth": 0,
              "ticks": ""
             }
            },
            "type": "scatter3d"
           }
          ],
          "scattercarpet": [
           {
            "marker": {
             "colorbar": {
              "outlinewidth": 0,
              "ticks": ""
             }
            },
            "type": "scattercarpet"
           }
          ],
          "scattergeo": [
           {
            "marker": {
             "colorbar": {
              "outlinewidth": 0,
              "ticks": ""
             }
            },
            "type": "scattergeo"
           }
          ],
          "scattergl": [
           {
            "marker": {
             "colorbar": {
              "outlinewidth": 0,
              "ticks": ""
             }
            },
            "type": "scattergl"
           }
          ],
          "scattermapbox": [
           {
            "marker": {
             "colorbar": {
              "outlinewidth": 0,
              "ticks": ""
             }
            },
            "type": "scattermapbox"
           }
          ],
          "scatterpolar": [
           {
            "marker": {
             "colorbar": {
              "outlinewidth": 0,
              "ticks": ""
             }
            },
            "type": "scatterpolar"
           }
          ],
          "scatterpolargl": [
           {
            "marker": {
             "colorbar": {
              "outlinewidth": 0,
              "ticks": ""
             }
            },
            "type": "scatterpolargl"
           }
          ],
          "scatterternary": [
           {
            "marker": {
             "colorbar": {
              "outlinewidth": 0,
              "ticks": ""
             }
            },
            "type": "scatterternary"
           }
          ],
          "surface": [
           {
            "colorbar": {
             "outlinewidth": 0,
             "ticks": ""
            },
            "colorscale": [
             [
              0,
              "#0d0887"
             ],
             [
              0.1111111111111111,
              "#46039f"
             ],
             [
              0.2222222222222222,
              "#7201a8"
             ],
             [
              0.3333333333333333,
              "#9c179e"
             ],
             [
              0.4444444444444444,
              "#bd3786"
             ],
             [
              0.5555555555555556,
              "#d8576b"
             ],
             [
              0.6666666666666666,
              "#ed7953"
             ],
             [
              0.7777777777777778,
              "#fb9f3a"
             ],
             [
              0.8888888888888888,
              "#fdca26"
             ],
             [
              1,
              "#f0f921"
             ]
            ],
            "type": "surface"
           }
          ],
          "table": [
           {
            "cells": {
             "fill": {
              "color": "#EBF0F8"
             },
             "line": {
              "color": "white"
             }
            },
            "header": {
             "fill": {
              "color": "#C8D4E3"
             },
             "line": {
              "color": "white"
             }
            },
            "type": "table"
           }
          ]
         },
         "layout": {
          "annotationdefaults": {
           "arrowcolor": "#2a3f5f",
           "arrowhead": 0,
           "arrowwidth": 1
          },
          "autotypenumbers": "strict",
          "coloraxis": {
           "colorbar": {
            "outlinewidth": 0,
            "ticks": ""
           }
          },
          "colorscale": {
           "diverging": [
            [
             0,
             "#8e0152"
            ],
            [
             0.1,
             "#c51b7d"
            ],
            [
             0.2,
             "#de77ae"
            ],
            [
             0.3,
             "#f1b6da"
            ],
            [
             0.4,
             "#fde0ef"
            ],
            [
             0.5,
             "#f7f7f7"
            ],
            [
             0.6,
             "#e6f5d0"
            ],
            [
             0.7,
             "#b8e186"
            ],
            [
             0.8,
             "#7fbc41"
            ],
            [
             0.9,
             "#4d9221"
            ],
            [
             1,
             "#276419"
            ]
           ],
           "sequential": [
            [
             0,
             "#0d0887"
            ],
            [
             0.1111111111111111,
             "#46039f"
            ],
            [
             0.2222222222222222,
             "#7201a8"
            ],
            [
             0.3333333333333333,
             "#9c179e"
            ],
            [
             0.4444444444444444,
             "#bd3786"
            ],
            [
             0.5555555555555556,
             "#d8576b"
            ],
            [
             0.6666666666666666,
             "#ed7953"
            ],
            [
             0.7777777777777778,
             "#fb9f3a"
            ],
            [
             0.8888888888888888,
             "#fdca26"
            ],
            [
             1,
             "#f0f921"
            ]
           ],
           "sequentialminus": [
            [
             0,
             "#0d0887"
            ],
            [
             0.1111111111111111,
             "#46039f"
            ],
            [
             0.2222222222222222,
             "#7201a8"
            ],
            [
             0.3333333333333333,
             "#9c179e"
            ],
            [
             0.4444444444444444,
             "#bd3786"
            ],
            [
             0.5555555555555556,
             "#d8576b"
            ],
            [
             0.6666666666666666,
             "#ed7953"
            ],
            [
             0.7777777777777778,
             "#fb9f3a"
            ],
            [
             0.8888888888888888,
             "#fdca26"
            ],
            [
             1,
             "#f0f921"
            ]
           ]
          },
          "colorway": [
           "#636efa",
           "#EF553B",
           "#00cc96",
           "#ab63fa",
           "#FFA15A",
           "#19d3f3",
           "#FF6692",
           "#B6E880",
           "#FF97FF",
           "#FECB52"
          ],
          "font": {
           "color": "#2a3f5f"
          },
          "geo": {
           "bgcolor": "white",
           "lakecolor": "white",
           "landcolor": "#E5ECF6",
           "showlakes": true,
           "showland": true,
           "subunitcolor": "white"
          },
          "hoverlabel": {
           "align": "left"
          },
          "hovermode": "closest",
          "mapbox": {
           "style": "light"
          },
          "paper_bgcolor": "white",
          "plot_bgcolor": "#E5ECF6",
          "polar": {
           "angularaxis": {
            "gridcolor": "white",
            "linecolor": "white",
            "ticks": ""
           },
           "bgcolor": "#E5ECF6",
           "radialaxis": {
            "gridcolor": "white",
            "linecolor": "white",
            "ticks": ""
           }
          },
          "scene": {
           "xaxis": {
            "backgroundcolor": "#E5ECF6",
            "gridcolor": "white",
            "gridwidth": 2,
            "linecolor": "white",
            "showbackground": true,
            "ticks": "",
            "zerolinecolor": "white"
           },
           "yaxis": {
            "backgroundcolor": "#E5ECF6",
            "gridcolor": "white",
            "gridwidth": 2,
            "linecolor": "white",
            "showbackground": true,
            "ticks": "",
            "zerolinecolor": "white"
           },
           "zaxis": {
            "backgroundcolor": "#E5ECF6",
            "gridcolor": "white",
            "gridwidth": 2,
            "linecolor": "white",
            "showbackground": true,
            "ticks": "",
            "zerolinecolor": "white"
           }
          },
          "shapedefaults": {
           "line": {
            "color": "#2a3f5f"
           }
          },
          "ternary": {
           "aaxis": {
            "gridcolor": "white",
            "linecolor": "white",
            "ticks": ""
           },
           "baxis": {
            "gridcolor": "white",
            "linecolor": "white",
            "ticks": ""
           },
           "bgcolor": "#E5ECF6",
           "caxis": {
            "gridcolor": "white",
            "linecolor": "white",
            "ticks": ""
           }
          },
          "title": {
           "x": 0.05
          },
          "xaxis": {
           "automargin": true,
           "gridcolor": "white",
           "linecolor": "white",
           "ticks": "",
           "title": {
            "standoff": 15
           },
           "zerolinecolor": "white",
           "zerolinewidth": 2
          },
          "yaxis": {
           "automargin": true,
           "gridcolor": "white",
           "linecolor": "white",
           "ticks": "",
           "title": {
            "standoff": 15
           },
           "zerolinecolor": "white",
           "zerolinewidth": 2
          }
         }
        }
       }
      }
     },
     "metadata": {},
     "output_type": "display_data"
    },
    {
     "data": {
      "text/plain": [
       "<Figure size 640x480 with 0 Axes>"
      ]
     },
     "metadata": {},
     "output_type": "display_data"
    }
   ],
   "source": [
    "#2-3\n",
    "import plotly.graph_objects as go\n",
    "\n",
    "# two vectors in R3\n",
    "v1 = np.array([ 3,5,1 ])\n",
    "v2 = np.array([ 0,2,2 ])\n",
    "\n",
    "## uncomment the lines below for the second part\n",
    "# v1 = np.array([ 3.0,5.0,1.0 ])\n",
    "# v2 = np.array([ 1.5,2.5,0.5 ])\n",
    "\n",
    "\n",
    "# random scalars in the x-axis range\n",
    "scalars = np.random.uniform(low=xlim[0],high=xlim[1],size=(100,2))\n",
    "\n",
    "\n",
    "\n",
    "# create random points\n",
    "points = np.zeros((100,3))\n",
    "for i in range(len(scalars)):\n",
    "\n",
    "  # define this point as a random weighted combination of the two vectors\n",
    "  points[i,:] = v1*scalars[i,0] + v2*scalars[i,1]\n",
    "\n",
    "\n",
    "# draw the dots in the plane\n",
    "fig = go.Figure( data=[go.Scatter3d(x=points[:,0], y=points[:,1], z=points[:,2], mode='markers', marker=dict(size=6,color='black') )])\n",
    "\n",
    "fig.update_layout(margin=dict(l=0,r=0,b=0,t=0))\n",
    "plt.savefig('Figure_02_07b.png',dpi=300)\n",
    "\n",
    "fig.show()"
   ]
  },
  {
   "cell_type": "code",
   "execution_count": null,
   "metadata": {},
   "outputs": [],
   "source": []
  },
  {
   "cell_type": "code",
   "execution_count": null,
   "metadata": {},
   "outputs": [],
   "source": []
  },
  {
   "cell_type": "code",
   "execution_count": null,
   "metadata": {},
   "outputs": [],
   "source": []
  }
 ],
 "metadata": {
  "kernelspec": {
   "display_name": ".venv",
   "language": "python",
   "name": "python3"
  },
  "language_info": {
   "codemirror_mode": {
    "name": "ipython",
    "version": 3
   },
   "file_extension": ".py",
   "mimetype": "text/x-python",
   "name": "python",
   "nbconvert_exporter": "python",
   "pygments_lexer": "ipython3",
   "version": "3.11.7"
  }
 },
 "nbformat": 4,
 "nbformat_minor": 2
}
