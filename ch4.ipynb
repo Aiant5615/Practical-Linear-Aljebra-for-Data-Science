{
 "cells": [
  {
   "cell_type": "code",
   "execution_count": 1,
   "metadata": {},
   "outputs": [],
   "source": [
    "import numpy as np\n",
    "import matplotlib.pyplot as plt\n",
    "\n",
    "# for null spaces\n",
    "import scipy.linalg\n",
    "\n",
    "# a pretty-looking matrix from scipy\n",
    "from scipy.linalg import toeplitz\n",
    "\n",
    "\n",
    "# NOTE: these lines define global figure properties used for publication.\n",
    "import matplotlib_inline.backend_inline\n",
    "matplotlib_inline.backend_inline.set_matplotlib_formats('svg') # print figures in svg format\n",
    "plt.rcParams.update({'font.size':14}) # set global font size"
   ]
  },
  {
   "cell_type": "code",
   "execution_count": 14,
   "metadata": {},
   "outputs": [
    {
     "name": "stdout",
     "output_type": "stream",
     "text": [
      "[[ 0  1  2  3]\n",
      " [ 4  5  6  7]\n",
      " [ 8  9 10 11]]\n",
      "7\n",
      "The matrix element at index (1,2) is 1\n"
     ]
    }
   ],
   "source": [
    "#4-1\n",
    "A = np.arange(12).reshape(3,4)\n",
    "print(A)\n",
    "print(A[1][3])\n",
    "r,c = map(int, input().split())\n",
    "print(f\"The matrix element at index ({r},{c}) is {A[r-1][c-1]}\")"
   ]
  },
  {
   "cell_type": "code",
   "execution_count": 16,
   "metadata": {},
   "outputs": [
    {
     "name": "stdout",
     "output_type": "stream",
     "text": [
      "[[ 0  1  2  3  4  5  6  7  8  9]\n",
      " [10 11 12 13 14 15 16 17 18 19]\n",
      " [20 21 22 23 24 25 26 27 28 29]\n",
      " [30 31 32 33 34 35 36 37 38 39]\n",
      " [40 41 42 43 44 45 46 47 48 49]\n",
      " [50 51 52 53 54 55 56 57 58 59]\n",
      " [60 61 62 63 64 65 66 67 68 69]\n",
      " [70 71 72 73 74 75 76 77 78 79]\n",
      " [80 81 82 83 84 85 86 87 88 89]\n",
      " [90 91 92 93 94 95 96 97 98 99]]\n",
      "[[ 0  1  2  3  4]\n",
      " [10 11 12 13 14]\n",
      " [20 21 22 23 24]\n",
      " [30 31 32 33 34]\n",
      " [40 41 42 43 44]]\n"
     ]
    }
   ],
   "source": [
    "#4-2\n",
    "C = np.arange(100).reshape(10,10)\n",
    "print(C)\n",
    "C1 = C[0:5:1, 0:5:1]\n",
    "print(C1)"
   ]
  },
  {
   "cell_type": "code",
   "execution_count": 19,
   "metadata": {},
   "outputs": [
    {
     "name": "stdout",
     "output_type": "stream",
     "text": [
      "[[55 56 57 58 59 50 51 52 53 54]\n",
      " [65 66 67 68 69 60 61 62 63 64]\n",
      " [75 76 77 78 79 70 71 72 73 74]\n",
      " [85 86 87 88 89 80 81 82 83 84]\n",
      " [95 96 97 98 99 90 91 92 93 94]\n",
      " [ 5  6  7  8  9  0  1  2  3  4]\n",
      " [15 16 17 18 19 10 11 12 13 14]\n",
      " [25 26 27 28 29 20 21 22 23 24]\n",
      " [35 36 37 38 39 30 31 32 33 34]\n",
      " [45 46 47 48 49 40 41 42 43 44]]\n"
     ]
    }
   ],
   "source": [
    "#4-3\n",
    "C = np.arange(100).reshape(10,10)\n",
    "C1 = C[0:5:1, 0:5:1]\n",
    "C2 = C[0:5:1, 5:10:1]\n",
    "C3 = C[5:10:1, 0:5:1]\n",
    "C4 = C[5:10:1, 5:10:1]\n",
    "# print(C1)\n",
    "# print(C2)\n",
    "# print(C3)\n",
    "# print(C4)\n",
    "new_C = np.vstack((np.hstack((C4, C3)), np.hstack((C2, C1))))\n",
    "print(new_C)"
   ]
  },
  {
   "cell_type": "code",
   "execution_count": 22,
   "metadata": {},
   "outputs": [
    {
     "data": {
      "text/plain": [
       "array([[1., 1., 1., 1.],\n",
       "       [1., 1., 1., 1.],\n",
       "       [1., 1., 1., 1.],\n",
       "       [1., 1., 1., 1.],\n",
       "       [1., 1., 1., 1.],\n",
       "       [1., 1., 1., 1.]])"
      ]
     },
     "execution_count": 22,
     "metadata": {},
     "output_type": "execute_result"
    }
   ],
   "source": [
    "#4-4\n",
    "def addMatrices(A,B):\n",
    "\n",
    "  # check that both matrices have the same size\n",
    "  if A.shape != B.shape:\n",
    "    raise('Matrices must be the same size!')\n",
    "\n",
    "  # initialize sum matrix\n",
    "  C = np.zeros(A.shape)\n",
    "\n",
    "  # sum!\n",
    "  for i in range(A.shape[0]):\n",
    "    for j in range(A.shape[1]):\n",
    "      C[i,j] = A[i,j] + B[i,j]\n",
    "  \n",
    "  return C\n",
    "\n",
    "\n",
    "# test the function\n",
    "M1 = np.zeros((6,4))\n",
    "M2 = np.ones((6,4))\n",
    "\n",
    "addMatrices(M1,M2)\n",
    "\n"
   ]
  },
  {
   "cell_type": "code",
   "execution_count": 23,
   "metadata": {},
   "outputs": [
    {
     "name": "stdout",
     "output_type": "stream",
     "text": [
      "[[ 0. -0. -0. -0.]\n",
      " [ 0.  0.  0.  0.]\n",
      " [ 0. -0.  0.  0.]]\n"
     ]
    }
   ],
   "source": [
    "#4-5\n",
    "# create random matrices and a scalar\n",
    "A = np.random.randn(3,4)\n",
    "B = np.random.randn(3,4)\n",
    "s = np.random.randn()\n",
    "\n",
    "# equations shown in the text\n",
    "expr1 = s*(A+B)\n",
    "expr2 = s*A + s*B\n",
    "expr3 = A*s + B*s\n",
    "\n",
    "# There are a few ways to test for 3-way equality. \n",
    "# My choice below is that if x=y=z, then 2x-y-z=0.\n",
    "\n",
    "# print out, rounded to 8 digits after the decimal point\n",
    "print(np.round(2*expr1 - expr2 - expr3,8))\n"
   ]
  },
  {
   "cell_type": "code",
   "execution_count": 24,
   "metadata": {},
   "outputs": [
    {
     "data": {
      "text/plain": [
       "array([[ True,  True,  True,  True],\n",
       "       [ True,  True,  True,  True],\n",
       "       [ True,  True,  True,  True],\n",
       "       [ True,  True,  True,  True]])"
      ]
     },
     "execution_count": 24,
     "metadata": {},
     "output_type": "execute_result"
    }
   ],
   "source": [
    "#4-6\n",
    "# generate two matrices\n",
    "m = 4\n",
    "n = 6\n",
    "A = np.random.randn(m,n)\n",
    "B = np.random.randn(n,m)\n",
    "\n",
    "# build up the product matrix element-wise\n",
    "C1 = np.zeros((m,m))\n",
    "for rowi in range(m):\n",
    "    for coli in range(m):\n",
    "        C1[rowi,coli] = np.dot( A[rowi,:],B[:,coli] )\n",
    "    \n",
    "\n",
    "\n",
    "# implement matrix multiplication directly\n",
    "C2 = A@B\n",
    "\n",
    "# compare the results (using isclose(); results should be a matrix of TRUEs)\n",
    "np.isclose( C1,C2 )\n",
    "\n"
   ]
  },
  {
   "cell_type": "code",
   "execution_count": 28,
   "metadata": {},
   "outputs": [
    {
     "name": "stdout",
     "output_type": "stream",
     "text": [
      "[[ 0.0000000e+00 -8.8817842e-16]\n",
      " [-8.8817842e-16  0.0000000e+00]]\n"
     ]
    }
   ],
   "source": [
    "#4-7\n",
    "\n",
    "# Create the matrices\n",
    "L = np.random.randn(2,6)\n",
    "I = np.random.randn(6,3)\n",
    "V = np.random.randn(3,5)\n",
    "E = np.random.randn(5,2)\n",
    "\n",
    "# multiplications indicated in the instructions\n",
    "res1 = ( L@I@V@E ).T\n",
    "# res2 = L.T @ I.T @ V.T @ E.T\n",
    "res3 = E.T @ V.T @ I.T @ L.T\n",
    "\n",
    "# show that res1 and res3 are the same (within rounding error tolerance)\n",
    "print(res1-res3)"
   ]
  },
  {
   "cell_type": "code",
   "execution_count": 27,
   "metadata": {},
   "outputs": [
    {
     "name": "stdout",
     "output_type": "stream",
     "text": [
      "False\n",
      "True\n"
     ]
    }
   ],
   "source": [
    "#4-8\n",
    "\n",
    "def isMatrixSymmetric(S):\n",
    "  \n",
    "  # difference between matrix and its transpose\n",
    "  D = S-S.T\n",
    "\n",
    "  # check whether sum of squared errors (SSE) is smaller than a threshold\n",
    "  sse = np.sum(D**2)\n",
    "\n",
    "  # output TRUE if sse is tiny; FALSE means the matrix is asymmetric\n",
    "  return sse<10**-15\n",
    "\n",
    "# note: There are many other ways you could solve this. \n",
    "# If you want to explore different methods, consider np.all() or np.isclose()\n",
    "\n",
    "# create symmetric and nonsymmetric matrices\n",
    "A = np.random.randn(4,4)\n",
    "AtA = A.T@A\n",
    "\n",
    "# test!\n",
    "print(isMatrixSymmetric(A))\n",
    "print(isMatrixSymmetric(AtA))"
   ]
  },
  {
   "cell_type": "code",
   "execution_count": 33,
   "metadata": {},
   "outputs": [
    {
     "name": "stdout",
     "output_type": "stream",
     "text": [
      "[[ 0.98212671 -0.91682947  0.84577442  0.11400501]\n",
      " [-0.91682947 -0.71335408 -0.30665596 -0.67954146]\n",
      " [ 0.84577442 -0.30665596  0.20523944 -0.54861164]\n",
      " [ 0.11400501 -0.67954146 -0.54861164 -1.38672025]]\n",
      "False\n",
      "True\n"
     ]
    }
   ],
   "source": [
    "#4-9\n",
    "# create symmetric and nonsymmetric matrices\n",
    "A = np.random.randn(4,4)\n",
    "AtA = (A + A.T) / 2 # additive method!\n",
    "print(AtA)\n",
    "# test!\n",
    "print(isMatrixSymmetric(A))\n",
    "print(isMatrixSymmetric(AtA))\n"
   ]
  },
  {
   "cell_type": "code",
   "execution_count": 39,
   "metadata": {},
   "outputs": [
    {
     "data": {
      "application/vnd.plotly.v1+json": {
       "config": {
        "plotlyServerURL": "https://plot.ly"
       },
       "data": [
        {
         "mode": "markers",
         "type": "scatter3d",
         "x": [
          -7.542359365663329,
          0.5118213329739536,
          10.782242005999622,
          4.006173113449182,
          10.059448064557115,
          -6.938503268459467,
          10.637440776288472,
          0.4750503909875077,
          3.3488669608972153,
          0.0965776866659036,
          4.368225981851198,
          -8.700134597549129,
          6.170997181385848,
          -8.225494478728823,
          5.826401812729468,
          -3.7034521741231616,
          11.759627966823649,
          -0.11249928933897824,
          -2.1384637860384874,
          -8.700367968627164,
          10.86904397371266,
          -8.673226886648095,
          -5.258753634918441,
          6.6149043945923,
          -5.710274870246889,
          11.373717491244154,
          3.0494303548180364,
          -5.597844599523368,
          7.867845329742217,
          5.069917675610962,
          9.168472051995145,
          -9.68088155520985,
          -3.746575294549796,
          11.613419778755533,
          9.127207655202408,
          -8.87028637957383,
          3.724494801686384,
          1.5203283968751444,
          -6.277572119166168,
          3.6574158286288885,
          6.749265487134694,
          -1.157735295578168,
          2.3928095190058745,
          11.246771261393018,
          4.959400622915878,
          9.791906727338407,
          -8.60620349692049,
          -8.712970174113211,
          -2.963137624690071,
          -8.292408303143372,
          -4.029780893185427,
          -0.8068996018723835,
          8.666062188761689,
          -1.8772570747066046,
          3.319547367171176,
          5.50031282373358,
          -10.899863392013259,
          -11.380477656071086,
          -11.439341197267854,
          9.672328398459461,
          -9.508726586878778,
          -7.611872593726163,
          -7.729829452483178,
          4.022886222471735,
          7.585882178255115,
          -0.6420274763117071,
          -10.787052864558518,
          10.344070104328834,
          -2.9471214403386643,
          2.3598702469885087,
          -4.7097130214415985,
          -4.372046523145689,
          -3.681749320620657,
          3.877360488971693,
          9.76916229243052,
          5.970634037140476,
          -5.97490025570028,
          -4.221158898667517,
          10.993256936600242,
          4.500220005414953,
          7.141094354206614,
          -9.984190456467573,
          -3.991348494365311,
          -9.161126805234932,
          11.4768827048107,
          -11.656854428838274,
          -10.982853372279521,
          10.666603131026921,
          3.4854490407226946,
          -8.871446798129831,
          9.610380425954787,
          7.378371357730034,
          -2.6639872697410807,
          9.285120566991466,
          -9.464260547181464,
          -5.211566649400056,
          6.276553604802466,
          7.905731402409381,
          2.333350389161038,
          1.2129000182716672
         ],
         "y": [
          -8.22646675693187,
          -4.542327204593983,
          21.724716706201107,
          13.16255443275821,
          11.870489377674973,
          -12.472958141891253,
          19.71542195763009,
          -2.985585344463254,
          1.4142225507741966,
          -1.8396437235622516,
          12.800948838392264,
          -12.92650208605406,
          15.727571202757318,
          -16.700475983979338,
          10.757181123020239,
          -1.8741108141965777,
          21.375381191593494,
          -5.184389586172476,
          4.05490060853565,
          -11.700749945504969,
          23.700332946088885,
          -10.772008221323413,
          -0.9690352032687208,
          7.732051457788797,
          -15.246187398155449,
          14.819454969000326,
          0.6813281972769429,
          -5.564685571402704,
          10.525585254966328,
          8.70511221784028,
          11.23277817350092,
          -10.84789292837178,
          -10.706820396556136,
          17.33009090743536,
          13.834520352673934,
          -18.750309461307793,
          6.4832828631899995,
          4.12475070558891,
          -11.0713637677438,
          7.964900693688428,
          5.441751449187775,
          2.7228610083877802,
          11.598397738178347,
          13.176556938451538,
          10.310373221051233,
          9.28999677082333,
          -11.439824063758971,
          -12.029760687083774,
          -10.341846369596933,
          -21.685321451964555,
          -6.637988406395269,
          -8.603935437172307,
          8.272319501543691,
          1.6770198969500543,
          12.035521288387159,
          15.447013567709037,
          -13.232248082241362,
          -25.834322345917794,
          -23.68047696793414,
          23.555013474597985,
          -12.298843843571099,
          -19.21255100824353,
          -7.857802287339911,
          0.10881554831295404,
          17.197555872785664,
          3.6927085727742863,
          -15.780688789664595,
          22.43410318739678,
          -4.11393205423864,
          -0.8007337846465141,
          -6.252462026366477,
          -10.217070223076778,
          -9.784605955933342,
          13.225193888845599,
          10.734115360459278,
          17.151449530525497,
          -2.293605333461075,
          -14.355664005384696,
          11.353584969989862,
          1.1815449503941515,
          5.766887928359093,
          -19.229693173612944,
          -9.276054022497341,
          -9.284974848085044,
          12.760002503119841,
          -25.36268756395799,
          -11.394782366654093,
          20.782602125476956,
          0.05888408147475399,
          -8.026557625461802,
          19.3212427722071,
          10.524887917476496,
          -7.22656171239733,
          22.599249340628585,
          -9.179049814594654,
          -10.261950381609156,
          15.282073389174341,
          19.66421547787025,
          -3.6987006763933,
          -0.5429135194126191
         ],
         "z": [
          1.830012397285901,
          -5.224755648559254,
          7.348394031534941,
          7.820990281492635,
          -1.5421080417345117,
          -3.2216204506119634,
          5.532167589245465,
          -3.6189858657799308,
          -3.050933397088757,
          -1.968413972450123,
          6.976647529257333,
          -1.326322622655221,
          7.49957496090952,
          -5.733150012340905,
          2.9886453727142808,
          3.063825417967638,
          5.695877235828631,
          -5.034390533720505,
          6.906185656586967,
          -0.10025932066874965,
          9.208274314472003,
          0.792294294207383,
          6.042636309955866,
          -1.0878210683342688,
          -7.632487571159596,
          -0.3455016859918816,
          -3.384578942480439,
          1.899107227961787,
          0.035124815310039637,
          1.9452219836923321,
          -0.991851229159276,
          2.059949145241357,
          -5.711386670489741,
          1.845531202427983,
          1.6649101457373918,
          -6.923260955209355,
          1.517289794274821,
          2.0976461764220504,
          -2.701267608855577,
          3.0883462555165764,
          -3.557269200325151,
          4.266508069158671,
          8.407985046170515,
          -1.8191380767391525,
          3.697839057163396,
          -3.7658788656278768,
          0.03511393213501268,
          -0.4124671215994926,
          -6.390996203343504,
          -10.628777047773394,
          -1.2649472154813672,
          -7.5280693013424616,
          -3.282430083471894,
          4.180029329892194,
          7.609458132158923,
          8.113263136064264,
          1.3009031071096517,
          -10.660352137823011,
          -8.428022038243668,
          10.65857560998537,
          0.37945827226727147,
          -9.063387549941979,
          2.4486369826376597,
          -5.255032748316026,
          7.083046301778843,
          4.5487452078565624,
          -1.3979516369199017,
          8.642009714958334,
          -0.18443680045375466,
          -3.947227447297859,
          0.02715533555565397,
          -4.387674858882527,
          -4.875606861772466,
          8.055379903550008,
          -2.2914343627814144,
          9.190604147671527,
          5.672928340805965,
          -8.727452140494673,
          -3.304090945477128,
          -4.818748390159119,
          -3.754571210583058,
          -5.917439231656178,
          -3.954256030010259,
          2.9298608922282012,
          -2.5425077699610945,
          -9.820214992173625,
          3.249022129718602,
          6.560464617441059,
          -4.588381306155505,
          3.8020381053779753,
          6.507402204267382,
          0.6870594405031181,
          -3.674578686075889,
          10.219088584639962,
          3.4399642483139647,
          -3.313194849075747,
          6.91333524943772,
          9.123240274657743,
          -6.809834528608017,
          -2.160113543774842
         ]
        }
       ],
       "layout": {
        "template": {
         "data": {
          "bar": [
           {
            "error_x": {
             "color": "#2a3f5f"
            },
            "error_y": {
             "color": "#2a3f5f"
            },
            "marker": {
             "line": {
              "color": "#E5ECF6",
              "width": 0.5
             },
             "pattern": {
              "fillmode": "overlay",
              "size": 10,
              "solidity": 0.2
             }
            },
            "type": "bar"
           }
          ],
          "barpolar": [
           {
            "marker": {
             "line": {
              "color": "#E5ECF6",
              "width": 0.5
             },
             "pattern": {
              "fillmode": "overlay",
              "size": 10,
              "solidity": 0.2
             }
            },
            "type": "barpolar"
           }
          ],
          "carpet": [
           {
            "aaxis": {
             "endlinecolor": "#2a3f5f",
             "gridcolor": "white",
             "linecolor": "white",
             "minorgridcolor": "white",
             "startlinecolor": "#2a3f5f"
            },
            "baxis": {
             "endlinecolor": "#2a3f5f",
             "gridcolor": "white",
             "linecolor": "white",
             "minorgridcolor": "white",
             "startlinecolor": "#2a3f5f"
            },
            "type": "carpet"
           }
          ],
          "choropleth": [
           {
            "colorbar": {
             "outlinewidth": 0,
             "ticks": ""
            },
            "type": "choropleth"
           }
          ],
          "contour": [
           {
            "colorbar": {
             "outlinewidth": 0,
             "ticks": ""
            },
            "colorscale": [
             [
              0,
              "#0d0887"
             ],
             [
              0.1111111111111111,
              "#46039f"
             ],
             [
              0.2222222222222222,
              "#7201a8"
             ],
             [
              0.3333333333333333,
              "#9c179e"
             ],
             [
              0.4444444444444444,
              "#bd3786"
             ],
             [
              0.5555555555555556,
              "#d8576b"
             ],
             [
              0.6666666666666666,
              "#ed7953"
             ],
             [
              0.7777777777777778,
              "#fb9f3a"
             ],
             [
              0.8888888888888888,
              "#fdca26"
             ],
             [
              1,
              "#f0f921"
             ]
            ],
            "type": "contour"
           }
          ],
          "contourcarpet": [
           {
            "colorbar": {
             "outlinewidth": 0,
             "ticks": ""
            },
            "type": "contourcarpet"
           }
          ],
          "heatmap": [
           {
            "colorbar": {
             "outlinewidth": 0,
             "ticks": ""
            },
            "colorscale": [
             [
              0,
              "#0d0887"
             ],
             [
              0.1111111111111111,
              "#46039f"
             ],
             [
              0.2222222222222222,
              "#7201a8"
             ],
             [
              0.3333333333333333,
              "#9c179e"
             ],
             [
              0.4444444444444444,
              "#bd3786"
             ],
             [
              0.5555555555555556,
              "#d8576b"
             ],
             [
              0.6666666666666666,
              "#ed7953"
             ],
             [
              0.7777777777777778,
              "#fb9f3a"
             ],
             [
              0.8888888888888888,
              "#fdca26"
             ],
             [
              1,
              "#f0f921"
             ]
            ],
            "type": "heatmap"
           }
          ],
          "heatmapgl": [
           {
            "colorbar": {
             "outlinewidth": 0,
             "ticks": ""
            },
            "colorscale": [
             [
              0,
              "#0d0887"
             ],
             [
              0.1111111111111111,
              "#46039f"
             ],
             [
              0.2222222222222222,
              "#7201a8"
             ],
             [
              0.3333333333333333,
              "#9c179e"
             ],
             [
              0.4444444444444444,
              "#bd3786"
             ],
             [
              0.5555555555555556,
              "#d8576b"
             ],
             [
              0.6666666666666666,
              "#ed7953"
             ],
             [
              0.7777777777777778,
              "#fb9f3a"
             ],
             [
              0.8888888888888888,
              "#fdca26"
             ],
             [
              1,
              "#f0f921"
             ]
            ],
            "type": "heatmapgl"
           }
          ],
          "histogram": [
           {
            "marker": {
             "pattern": {
              "fillmode": "overlay",
              "size": 10,
              "solidity": 0.2
             }
            },
            "type": "histogram"
           }
          ],
          "histogram2d": [
           {
            "colorbar": {
             "outlinewidth": 0,
             "ticks": ""
            },
            "colorscale": [
             [
              0,
              "#0d0887"
             ],
             [
              0.1111111111111111,
              "#46039f"
             ],
             [
              0.2222222222222222,
              "#7201a8"
             ],
             [
              0.3333333333333333,
              "#9c179e"
             ],
             [
              0.4444444444444444,
              "#bd3786"
             ],
             [
              0.5555555555555556,
              "#d8576b"
             ],
             [
              0.6666666666666666,
              "#ed7953"
             ],
             [
              0.7777777777777778,
              "#fb9f3a"
             ],
             [
              0.8888888888888888,
              "#fdca26"
             ],
             [
              1,
              "#f0f921"
             ]
            ],
            "type": "histogram2d"
           }
          ],
          "histogram2dcontour": [
           {
            "colorbar": {
             "outlinewidth": 0,
             "ticks": ""
            },
            "colorscale": [
             [
              0,
              "#0d0887"
             ],
             [
              0.1111111111111111,
              "#46039f"
             ],
             [
              0.2222222222222222,
              "#7201a8"
             ],
             [
              0.3333333333333333,
              "#9c179e"
             ],
             [
              0.4444444444444444,
              "#bd3786"
             ],
             [
              0.5555555555555556,
              "#d8576b"
             ],
             [
              0.6666666666666666,
              "#ed7953"
             ],
             [
              0.7777777777777778,
              "#fb9f3a"
             ],
             [
              0.8888888888888888,
              "#fdca26"
             ],
             [
              1,
              "#f0f921"
             ]
            ],
            "type": "histogram2dcontour"
           }
          ],
          "mesh3d": [
           {
            "colorbar": {
             "outlinewidth": 0,
             "ticks": ""
            },
            "type": "mesh3d"
           }
          ],
          "parcoords": [
           {
            "line": {
             "colorbar": {
              "outlinewidth": 0,
              "ticks": ""
             }
            },
            "type": "parcoords"
           }
          ],
          "pie": [
           {
            "automargin": true,
            "type": "pie"
           }
          ],
          "scatter": [
           {
            "fillpattern": {
             "fillmode": "overlay",
             "size": 10,
             "solidity": 0.2
            },
            "type": "scatter"
           }
          ],
          "scatter3d": [
           {
            "line": {
             "colorbar": {
              "outlinewidth": 0,
              "ticks": ""
             }
            },
            "marker": {
             "colorbar": {
              "outlinewidth": 0,
              "ticks": ""
             }
            },
            "type": "scatter3d"
           }
          ],
          "scattercarpet": [
           {
            "marker": {
             "colorbar": {
              "outlinewidth": 0,
              "ticks": ""
             }
            },
            "type": "scattercarpet"
           }
          ],
          "scattergeo": [
           {
            "marker": {
             "colorbar": {
              "outlinewidth": 0,
              "ticks": ""
             }
            },
            "type": "scattergeo"
           }
          ],
          "scattergl": [
           {
            "marker": {
             "colorbar": {
              "outlinewidth": 0,
              "ticks": ""
             }
            },
            "type": "scattergl"
           }
          ],
          "scattermapbox": [
           {
            "marker": {
             "colorbar": {
              "outlinewidth": 0,
              "ticks": ""
             }
            },
            "type": "scattermapbox"
           }
          ],
          "scatterpolar": [
           {
            "marker": {
             "colorbar": {
              "outlinewidth": 0,
              "ticks": ""
             }
            },
            "type": "scatterpolar"
           }
          ],
          "scatterpolargl": [
           {
            "marker": {
             "colorbar": {
              "outlinewidth": 0,
              "ticks": ""
             }
            },
            "type": "scatterpolargl"
           }
          ],
          "scatterternary": [
           {
            "marker": {
             "colorbar": {
              "outlinewidth": 0,
              "ticks": ""
             }
            },
            "type": "scatterternary"
           }
          ],
          "surface": [
           {
            "colorbar": {
             "outlinewidth": 0,
             "ticks": ""
            },
            "colorscale": [
             [
              0,
              "#0d0887"
             ],
             [
              0.1111111111111111,
              "#46039f"
             ],
             [
              0.2222222222222222,
              "#7201a8"
             ],
             [
              0.3333333333333333,
              "#9c179e"
             ],
             [
              0.4444444444444444,
              "#bd3786"
             ],
             [
              0.5555555555555556,
              "#d8576b"
             ],
             [
              0.6666666666666666,
              "#ed7953"
             ],
             [
              0.7777777777777778,
              "#fb9f3a"
             ],
             [
              0.8888888888888888,
              "#fdca26"
             ],
             [
              1,
              "#f0f921"
             ]
            ],
            "type": "surface"
           }
          ],
          "table": [
           {
            "cells": {
             "fill": {
              "color": "#EBF0F8"
             },
             "line": {
              "color": "white"
             }
            },
            "header": {
             "fill": {
              "color": "#C8D4E3"
             },
             "line": {
              "color": "white"
             }
            },
            "type": "table"
           }
          ]
         },
         "layout": {
          "annotationdefaults": {
           "arrowcolor": "#2a3f5f",
           "arrowhead": 0,
           "arrowwidth": 1
          },
          "autotypenumbers": "strict",
          "coloraxis": {
           "colorbar": {
            "outlinewidth": 0,
            "ticks": ""
           }
          },
          "colorscale": {
           "diverging": [
            [
             0,
             "#8e0152"
            ],
            [
             0.1,
             "#c51b7d"
            ],
            [
             0.2,
             "#de77ae"
            ],
            [
             0.3,
             "#f1b6da"
            ],
            [
             0.4,
             "#fde0ef"
            ],
            [
             0.5,
             "#f7f7f7"
            ],
            [
             0.6,
             "#e6f5d0"
            ],
            [
             0.7,
             "#b8e186"
            ],
            [
             0.8,
             "#7fbc41"
            ],
            [
             0.9,
             "#4d9221"
            ],
            [
             1,
             "#276419"
            ]
           ],
           "sequential": [
            [
             0,
             "#0d0887"
            ],
            [
             0.1111111111111111,
             "#46039f"
            ],
            [
             0.2222222222222222,
             "#7201a8"
            ],
            [
             0.3333333333333333,
             "#9c179e"
            ],
            [
             0.4444444444444444,
             "#bd3786"
            ],
            [
             0.5555555555555556,
             "#d8576b"
            ],
            [
             0.6666666666666666,
             "#ed7953"
            ],
            [
             0.7777777777777778,
             "#fb9f3a"
            ],
            [
             0.8888888888888888,
             "#fdca26"
            ],
            [
             1,
             "#f0f921"
            ]
           ],
           "sequentialminus": [
            [
             0,
             "#0d0887"
            ],
            [
             0.1111111111111111,
             "#46039f"
            ],
            [
             0.2222222222222222,
             "#7201a8"
            ],
            [
             0.3333333333333333,
             "#9c179e"
            ],
            [
             0.4444444444444444,
             "#bd3786"
            ],
            [
             0.5555555555555556,
             "#d8576b"
            ],
            [
             0.6666666666666666,
             "#ed7953"
            ],
            [
             0.7777777777777778,
             "#fb9f3a"
            ],
            [
             0.8888888888888888,
             "#fdca26"
            ],
            [
             1,
             "#f0f921"
            ]
           ]
          },
          "colorway": [
           "#636efa",
           "#EF553B",
           "#00cc96",
           "#ab63fa",
           "#FFA15A",
           "#19d3f3",
           "#FF6692",
           "#B6E880",
           "#FF97FF",
           "#FECB52"
          ],
          "font": {
           "color": "#2a3f5f"
          },
          "geo": {
           "bgcolor": "white",
           "lakecolor": "white",
           "landcolor": "#E5ECF6",
           "showlakes": true,
           "showland": true,
           "subunitcolor": "white"
          },
          "hoverlabel": {
           "align": "left"
          },
          "hovermode": "closest",
          "mapbox": {
           "style": "light"
          },
          "paper_bgcolor": "white",
          "plot_bgcolor": "#E5ECF6",
          "polar": {
           "angularaxis": {
            "gridcolor": "white",
            "linecolor": "white",
            "ticks": ""
           },
           "bgcolor": "#E5ECF6",
           "radialaxis": {
            "gridcolor": "white",
            "linecolor": "white",
            "ticks": ""
           }
          },
          "scene": {
           "xaxis": {
            "backgroundcolor": "#E5ECF6",
            "gridcolor": "white",
            "gridwidth": 2,
            "linecolor": "white",
            "showbackground": true,
            "ticks": "",
            "zerolinecolor": "white"
           },
           "yaxis": {
            "backgroundcolor": "#E5ECF6",
            "gridcolor": "white",
            "gridwidth": 2,
            "linecolor": "white",
            "showbackground": true,
            "ticks": "",
            "zerolinecolor": "white"
           },
           "zaxis": {
            "backgroundcolor": "#E5ECF6",
            "gridcolor": "white",
            "gridwidth": 2,
            "linecolor": "white",
            "showbackground": true,
            "ticks": "",
            "zerolinecolor": "white"
           }
          },
          "shapedefaults": {
           "line": {
            "color": "#2a3f5f"
           }
          },
          "ternary": {
           "aaxis": {
            "gridcolor": "white",
            "linecolor": "white",
            "ticks": ""
           },
           "baxis": {
            "gridcolor": "white",
            "linecolor": "white",
            "ticks": ""
           },
           "bgcolor": "#E5ECF6",
           "caxis": {
            "gridcolor": "white",
            "linecolor": "white",
            "ticks": ""
           }
          },
          "title": {
           "x": 0.05
          },
          "xaxis": {
           "automargin": true,
           "gridcolor": "white",
           "linecolor": "white",
           "ticks": "",
           "title": {
            "standoff": 15
           },
           "zerolinecolor": "white",
           "zerolinewidth": 2
          },
          "yaxis": {
           "automargin": true,
           "gridcolor": "white",
           "linecolor": "white",
           "ticks": "",
           "title": {
            "standoff": 15
           },
           "zerolinecolor": "white",
           "zerolinewidth": 2
          }
         }
        }
       }
      }
     },
     "metadata": {},
     "output_type": "display_data"
    }
   ],
   "source": [
    "#4-10\n",
    "import plotly.graph_objects as go\n",
    "\n",
    "# As a matrix with two columns in R3, instead of two separate vectors\n",
    "A = np.array( [ [3,0],\n",
    "                [5,2],\n",
    "                [1,2] ] )\n",
    "\n",
    "# uncomment the line below\n",
    "# A = np.array( [ [3,1.5],\n",
    "#                 [5,2.5],\n",
    "#                 [1, .5] ] )\n",
    "\n",
    "\n",
    "xlim = [-4,4]\n",
    "scalars = np.random.uniform(low=xlim[0],high=xlim[1],size=(100,2))\n",
    "\n",
    "# create random points\n",
    "points = np.zeros((100,3))\n",
    "for i in range(len(scalars)):\n",
    "  points[i,:] = A@scalars[i]\n",
    "\n",
    "# draw the dots in the figure\n",
    "fig = go.Figure( data=[go.Scatter3d(x=points[:,0], y=points[:,1], z=points[:,2], mode='markers')])\n",
    "fig.show()"
   ]
  },
  {
   "cell_type": "code",
   "execution_count": 41,
   "metadata": {},
   "outputs": [
    {
     "name": "stdout",
     "output_type": "stream",
     "text": [
      "[[ 1  0  0  0]\n",
      " [ 0  4  0  0]\n",
      " [ 0  0  9  0]\n",
      " [ 0  0  0 16]]\n",
      "Ones matrix:\n",
      "[[1. 1. 1. 1.]\n",
      " [1. 1. 1. 1.]\n",
      " [1. 1. 1. 1.]\n",
      " [1. 1. 1. 1.]]\n",
      " \n",
      "Diagonal matrix:\n",
      "[[ 1  0  0  0]\n",
      " [ 0  4  0  0]\n",
      " [ 0  0  9  0]\n",
      " [ 0  0  0 16]]\n",
      " \n",
      "Sqrt-diagonal matrix:\n",
      "[[1. 0. 0. 0.]\n",
      " [0. 2. 0. 0.]\n",
      " [0. 0. 3. 0.]\n",
      " [0. 0. 0. 4.]]\n",
      " \n",
      "Pre-multiply by diagonal:\n",
      "[[ 1.  1.  1.  1.]\n",
      " [ 4.  4.  4.  4.]\n",
      " [ 9.  9.  9.  9.]\n",
      " [16. 16. 16. 16.]]\n",
      " \n",
      "Post-multiply by diagonal:\n",
      "[[ 1.  4.  9. 16.]\n",
      " [ 1.  4.  9. 16.]\n",
      " [ 1.  4.  9. 16.]\n",
      " [ 1.  4.  9. 16.]]\n",
      " \n",
      "Pre- and post-multiply by sqrt-diagonal:\n",
      "[[ 1.  2.  3.  4.]\n",
      " [ 2.  4.  6.  8.]\n",
      " [ 3.  6.  9. 12.]\n",
      " [ 4.  8. 12. 16.]]\n"
     ]
    }
   ],
   "source": [
    "#4-11\n",
    "n = 4\n",
    "\n",
    "# create \"base\" matrices\n",
    "O = np.ones((n,n))\n",
    "D = np.diag(np.arange(1,n+1)**2)\n",
    "S = np.sqrt(D)\n",
    "\n",
    "# pre- and post-multiply\n",
    "pre = D@O\n",
    "pst = O@D\n",
    "\n",
    "# and both\n",
    "both = S@O@S\n",
    "\n",
    "\n",
    "\n",
    "# print out the \"base\" matrices\n",
    "print('Ones matrix:')\n",
    "print(O), print(' ')\n",
    "\n",
    "print('Diagonal matrix:')\n",
    "print(D), print(' ')\n",
    "\n",
    "print('Sqrt-diagonal matrix:')\n",
    "print(S), print(' ')\n",
    "\n",
    "\n",
    "\n",
    "print('Pre-multiply by diagonal:')\n",
    "print(pre), print(' ')\n",
    "\n",
    "print('Post-multiply by diagonal:')\n",
    "print(pst), print(' ')\n",
    "\n",
    "print('Pre- and post-multiply by sqrt-diagonal:')\n",
    "print(both)"
   ]
  },
  {
   "cell_type": "code",
   "execution_count": 45,
   "metadata": {},
   "outputs": [
    {
     "name": "stdout",
     "output_type": "stream",
     "text": [
      "[[-1.00726554  0.          0.          0.          0.        ]\n",
      " [ 0.          1.36372113  0.          0.          0.        ]\n",
      " [ 0.          0.          0.03006759  0.          0.        ]\n",
      " [ 0.          0.          0.          0.90969606  0.        ]\n",
      " [ 0.          0.          0.          0.          0.46828085]]\n",
      "[[-0.67669783  0.          0.          0.          0.        ]\n",
      " [ 0.         -2.12473455  0.          0.          0.        ]\n",
      " [ 0.          0.          0.70639018  0.          0.        ]\n",
      " [ 0.          0.          0.         -0.24587175  0.        ]\n",
      " [ 0.          0.          0.          0.         -1.42047857]]\n",
      "[[ 0.68161441  0.          0.          0.          0.        ]\n",
      " [ 0.         -2.8975454   0.          0.          0.        ]\n",
      " [ 0.          0.          0.02123945  0.          0.        ]\n",
      " [ 0.          0.          0.         -0.22366856  0.        ]\n",
      " [ 0.          0.          0.          0.         -0.66518291]]\n",
      "[[ 0.68161441  0.          0.          0.          0.        ]\n",
      " [ 0.         -2.8975454   0.          0.          0.        ]\n",
      " [ 0.          0.          0.02123945  0.          0.        ]\n",
      " [ 0.          0.          0.         -0.22366856  0.        ]\n",
      " [ 0.          0.          0.          0.         -0.66518291]]\n"
     ]
    },
    {
     "data": {
      "text/plain": [
       "array([[0., 0., 0., 0., 0.],\n",
       "       [0., 0., 0., 0., 0.],\n",
       "       [0., 0., 0., 0., 0.],\n",
       "       [0., 0., 0., 0., 0.],\n",
       "       [0., 0., 0., 0., 0.]])"
      ]
     },
     "execution_count": 45,
     "metadata": {},
     "output_type": "execute_result"
    }
   ],
   "source": [
    "#4-12\n",
    "\n",
    "# Create two diagonal matrices\n",
    "N = 5\n",
    "D1 = np.diag( np.random.randn(N) )\n",
    "D2 = np.diag( np.random.randn(N) )\n",
    "print(D1)\n",
    "print(D2)\n",
    "# two forms of multiplication\n",
    "hadamard = D1*D2\n",
    "standard = D1@D2\n",
    "print(hadamard)\n",
    "print(standard)\n",
    "# compare them\n",
    "hadamard - standard"
   ]
  },
  {
   "cell_type": "code",
   "execution_count": null,
   "metadata": {},
   "outputs": [],
   "source": []
  }
 ],
 "metadata": {
  "kernelspec": {
   "display_name": ".venv",
   "language": "python",
   "name": "python3"
  },
  "language_info": {
   "codemirror_mode": {
    "name": "ipython",
    "version": 3
   },
   "file_extension": ".py",
   "mimetype": "text/x-python",
   "name": "python",
   "nbconvert_exporter": "python",
   "pygments_lexer": "ipython3",
   "version": "3.11.7"
  }
 },
 "nbformat": 4,
 "nbformat_minor": 2
}
